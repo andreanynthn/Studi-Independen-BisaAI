{
 "cells": [
  {
   "cell_type": "markdown",
   "id": "e4d03131",
   "metadata": {},
   "source": [
    "<p style='text-align:center; font-size:250%; font-weight:bold'>PRINCIPLE COMPONENT ANALYSIS</p>\n",
    "<p style='text-align:center; font-size:150%'>Author: Andrean Yonathan</p>"
   ]
  },
  {
   "cell_type": "markdown",
   "id": "9f680487",
   "metadata": {},
   "source": [
    "# Import Library"
   ]
  },
  {
   "cell_type": "code",
   "execution_count": 1,
   "id": "d33b37fb",
   "metadata": {},
   "outputs": [],
   "source": [
    "import numpy as np\n",
    "from sklearn.decomposition import PCA"
   ]
  },
  {
   "cell_type": "markdown",
   "id": "a394b56f",
   "metadata": {},
   "source": [
    "# Create Data"
   ]
  },
  {
   "cell_type": "code",
   "execution_count": 2,
   "id": "a9dcdf2c",
   "metadata": {},
   "outputs": [
    {
     "data": {
      "text/plain": [
       "array([[-1,  1],\n",
       "       [-2, -1],\n",
       "       [-3, -2],\n",
       "       [ 1,  1],\n",
       "       [ 2,  1],\n",
       "       [ 3,  2]])"
      ]
     },
     "execution_count": 2,
     "metadata": {},
     "output_type": "execute_result"
    }
   ],
   "source": [
    "# create data\n",
    "X = np.array([[-1,1],\n",
    "             [-2,-1],\n",
    "             [-3,-2],\n",
    "             [1,1],\n",
    "             [2,1],\n",
    "             [3,2]])\n",
    "X"
   ]
  },
  {
   "cell_type": "code",
   "execution_count": 3,
   "id": "ab5a0924",
   "metadata": {},
   "outputs": [
    {
     "data": {
      "text/plain": [
       "PCA(n_components=2)"
      ]
     },
     "execution_count": 3,
     "metadata": {},
     "output_type": "execute_result"
    }
   ],
   "source": [
    "# fit PCA\n",
    "pca = PCA(n_components = 2)\n",
    "pca.fit(X)"
   ]
  },
  {
   "cell_type": "code",
   "execution_count": 4,
   "id": "4430852c",
   "metadata": {},
   "outputs": [
    {
     "name": "stdout",
     "output_type": "stream",
     "text": [
      "[[ 0.50917706  1.08866118]\n",
      " [ 2.40151069 -0.10258752]\n",
      " [ 3.7751606  -0.43887001]\n",
      " [-1.20075534  0.05129376]\n",
      " [-2.05572155 -0.46738995]\n",
      " [-3.42937146 -0.13110746]]\n"
     ]
    }
   ],
   "source": [
    "print(pca.fit_transform(X))"
   ]
  },
  {
   "cell_type": "code",
   "execution_count": 5,
   "id": "29679902",
   "metadata": {},
   "outputs": [
    {
     "name": "stdout",
     "output_type": "stream",
     "text": [
      "[0.95864607 0.04135393]\n"
     ]
    }
   ],
   "source": [
    "print(pca.explained_variance_ratio_)"
   ]
  },
  {
   "cell_type": "markdown",
   "id": "7c4e33e2",
   "metadata": {},
   "source": [
    "PCA 1 mengandun 95.86% data sehingga yang digunakan hanya PCA 1"
   ]
  },
  {
   "cell_type": "code",
   "execution_count": 6,
   "id": "136e20d1",
   "metadata": {},
   "outputs": [
    {
     "data": {
      "text/plain": [
       "array([[ 0.50917706],\n",
       "       [ 2.40151069],\n",
       "       [ 3.7751606 ],\n",
       "       [-1.20075534],\n",
       "       [-2.05572155],\n",
       "       [-3.42937146]])"
      ]
     },
     "execution_count": 6,
     "metadata": {},
     "output_type": "execute_result"
    }
   ],
   "source": [
    "pca = PCA(n_components = 1)\n",
    "pca.fit_transform(X)"
   ]
  },
  {
   "cell_type": "markdown",
   "id": "f46c839d",
   "metadata": {},
   "source": [
    "# Finding PCA Manual"
   ]
  },
  {
   "cell_type": "code",
   "execution_count": 7,
   "id": "5177232a",
   "metadata": {},
   "outputs": [],
   "source": [
    "import pandas as pd\n",
    "import scipy.linalg as la"
   ]
  },
  {
   "cell_type": "code",
   "execution_count": 8,
   "id": "22557209",
   "metadata": {},
   "outputs": [
    {
     "data": {
      "text/html": [
       "<div>\n",
       "<style scoped>\n",
       "    .dataframe tbody tr th:only-of-type {\n",
       "        vertical-align: middle;\n",
       "    }\n",
       "\n",
       "    .dataframe tbody tr th {\n",
       "        vertical-align: top;\n",
       "    }\n",
       "\n",
       "    .dataframe thead th {\n",
       "        text-align: right;\n",
       "    }\n",
       "</style>\n",
       "<table border=\"1\" class=\"dataframe\">\n",
       "  <thead>\n",
       "    <tr style=\"text-align: right;\">\n",
       "      <th></th>\n",
       "      <th>0</th>\n",
       "      <th>1</th>\n",
       "      <th>2</th>\n",
       "    </tr>\n",
       "  </thead>\n",
       "  <tbody>\n",
       "    <tr>\n",
       "      <th>0</th>\n",
       "      <td>1</td>\n",
       "      <td>2</td>\n",
       "      <td>4</td>\n",
       "    </tr>\n",
       "    <tr>\n",
       "      <th>1</th>\n",
       "      <td>4</td>\n",
       "      <td>1</td>\n",
       "      <td>2</td>\n",
       "    </tr>\n",
       "    <tr>\n",
       "      <th>2</th>\n",
       "      <td>5</td>\n",
       "      <td>4</td>\n",
       "      <td>8</td>\n",
       "    </tr>\n",
       "  </tbody>\n",
       "</table>\n",
       "</div>"
      ],
      "text/plain": [
       "   0  1  2\n",
       "0  1  2  4\n",
       "1  4  1  2\n",
       "2  5  4  8"
      ]
     },
     "execution_count": 8,
     "metadata": {},
     "output_type": "execute_result"
    }
   ],
   "source": [
    "# Data\n",
    "data = np.matrix([[1,2,4],\n",
    "                 [4,1,2],\n",
    "                 [5,4,8]])\n",
    "\n",
    "df = pd.DataFrame(data)\n",
    "df"
   ]
  },
  {
   "cell_type": "code",
   "execution_count": 9,
   "id": "d0a3187a",
   "metadata": {},
   "outputs": [
    {
     "name": "stdout",
     "output_type": "stream",
     "text": [
      "Standarize data:\n",
      "          0         1         2\n",
      "0 -1.120897 -0.218218 -0.218218\n",
      "1  0.320256 -0.872872 -0.872872\n",
      "2  0.800641  1.091089  1.091089\n"
     ]
    }
   ],
   "source": [
    "# standarize data\n",
    "standarize_data = (df - df.mean())/df.std()\n",
    "print('Standarize data:')\n",
    "print(standarize_data)"
   ]
  },
  {
   "cell_type": "code",
   "execution_count": 10,
   "id": "f09a79c2",
   "metadata": {},
   "outputs": [
    {
     "name": "stdout",
     "output_type": "stream",
     "text": [
      "Covariance Matrix:\n",
      " [[0.66666667 0.27954262 0.27954262]\n",
      " [0.27954262 0.66666667 0.66666667]\n",
      " [0.27954262 0.66666667 0.66666667]]\n"
     ]
    }
   ],
   "source": [
    "# finding covariance matrix\n",
    "covariance = np.cov(standarize_data.T, bias = 1)\n",
    "print('Covariance Matrix:\\n', covariance)"
   ]
  },
  {
   "cell_type": "code",
   "execution_count": 11,
   "id": "71ae67d9",
   "metadata": {},
   "outputs": [
    {
     "name": "stdout",
     "output_type": "stream",
     "text": [
      "Eigen values:\n",
      " [ 1.52  0.48 -0.  ]\n",
      "\n",
      "\n",
      "Eigen vector:\n",
      " [[-0.42 -0.91  0.  ]\n",
      " [-0.64  0.3  -0.71]\n",
      " [-0.64  0.3   0.71]]\n"
     ]
    }
   ],
   "source": [
    "# finding eigenvalue and eigenvector\n",
    "eigenvalues, eigenvector = np.linalg.eig(covariance)\n",
    "print('Eigen values:\\n', eigenvalues.round(2))\n",
    "print('\\n')\n",
    "print('Eigen vector:\\n', eigenvector.round(2))"
   ]
  },
  {
   "cell_type": "code",
   "execution_count": 12,
   "id": "ea8151e8",
   "metadata": {},
   "outputs": [
    {
     "name": "stdout",
     "output_type": "stream",
     "text": [
      "[[ 0.75  0.89 -0.  ]\n",
      " [ 0.98 -0.81  0.  ]\n",
      " [-1.74 -0.08 -0.  ]]\n"
     ]
    }
   ],
   "source": [
    "# finding PCA\n",
    "n_components = 3\n",
    "pca_manual = np.matmul(np.array(standarize_data), eigenvector)\n",
    "pca_manual = pca_manual[:,:n_components]\n",
    "\n",
    "print(pca_manual.round(2))"
   ]
  }
 ],
 "metadata": {
  "kernelspec": {
   "display_name": "Python 3 (ipykernel)",
   "language": "python",
   "name": "python3"
  },
  "language_info": {
   "codemirror_mode": {
    "name": "ipython",
    "version": 3
   },
   "file_extension": ".py",
   "mimetype": "text/x-python",
   "name": "python",
   "nbconvert_exporter": "python",
   "pygments_lexer": "ipython3",
   "version": "3.10.3"
  }
 },
 "nbformat": 4,
 "nbformat_minor": 5
}

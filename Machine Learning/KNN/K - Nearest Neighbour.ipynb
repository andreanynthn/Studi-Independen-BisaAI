{
 "cells": [
  {
   "cell_type": "markdown",
   "metadata": {},
   "source": [
    "<p style='text-align:center; font-size:250%; font-weight:bold'>K-NEAREST NEIGHBOUR</p>\n",
    "<p style='text-align:center; font-size:150%'>Author: Andrean Yonathan</p>"
   ]
  },
  {
   "cell_type": "markdown",
   "metadata": {
    "id": "uiSu8_q5NTiQ"
   },
   "source": [
    "# Import Library"
   ]
  },
  {
   "cell_type": "code",
   "execution_count": 1,
   "metadata": {
    "executionInfo": {
     "elapsed": 2087,
     "status": "ok",
     "timestamp": 1648396349429,
     "user": {
      "displayName": "Andrean Yonathan",
      "photoUrl": "https://lh3.googleusercontent.com/a/default-user=s64",
      "userId": "01683839600308987741"
     },
     "user_tz": -420
    },
    "id": "M10PCZs0NTVF"
   },
   "outputs": [],
   "source": [
    "import numpy as np\n",
    "import pandas as pd\n",
    "\n",
    "# library for visualization\n",
    "import matplotlib.pyplot as plt\n",
    "import seaborn as sns\n",
    "\n",
    "# libray for preprocessing\n",
    "from sklearn.preprocessing import LabelEncoder\n",
    "from sklearn.preprocessing import StandardScaler\n",
    "from sklearn.model_selection import train_test_split\n",
    "from sklearn.decomposition import PCA\n",
    "\n",
    "# library for modelling\n",
    "from sklearn.neighbors import KNeighborsClassifier\n",
    "\n",
    "# library for evaluation\n",
    "from sklearn.metrics import accuracy_score, classification_report, confusion_matrix"
   ]
  },
  {
   "cell_type": "markdown",
   "metadata": {
    "id": "8YtWRo4wYw9X"
   },
   "source": [
    "# Load Dataset"
   ]
  },
  {
   "cell_type": "code",
   "execution_count": 2,
   "metadata": {
    "colab": {
     "base_uri": "https://localhost:8080/",
     "height": 206
    },
    "executionInfo": {
     "elapsed": 43,
     "status": "ok",
     "timestamp": 1648396349432,
     "user": {
      "displayName": "Andrean Yonathan",
      "photoUrl": "https://lh3.googleusercontent.com/a/default-user=s64",
      "userId": "01683839600308987741"
     },
     "user_tz": -420
    },
    "id": "wXY0i03bNTS-",
    "outputId": "aacca64b-497b-4855-d051-027e0da32706"
   },
   "outputs": [
    {
     "data": {
      "text/html": [
       "<div>\n",
       "<style scoped>\n",
       "    .dataframe tbody tr th:only-of-type {\n",
       "        vertical-align: middle;\n",
       "    }\n",
       "\n",
       "    .dataframe tbody tr th {\n",
       "        vertical-align: top;\n",
       "    }\n",
       "\n",
       "    .dataframe thead th {\n",
       "        text-align: right;\n",
       "    }\n",
       "</style>\n",
       "<table border=\"1\" class=\"dataframe\">\n",
       "  <thead>\n",
       "    <tr style=\"text-align: right;\">\n",
       "      <th></th>\n",
       "      <th>sepal-length</th>\n",
       "      <th>sepal-width</th>\n",
       "      <th>petal-length</th>\n",
       "      <th>petal width</th>\n",
       "      <th>class</th>\n",
       "    </tr>\n",
       "  </thead>\n",
       "  <tbody>\n",
       "    <tr>\n",
       "      <th>0</th>\n",
       "      <td>5.1</td>\n",
       "      <td>3.5</td>\n",
       "      <td>1.4</td>\n",
       "      <td>0.2</td>\n",
       "      <td>Iris-setosa</td>\n",
       "    </tr>\n",
       "    <tr>\n",
       "      <th>1</th>\n",
       "      <td>4.9</td>\n",
       "      <td>3.0</td>\n",
       "      <td>1.4</td>\n",
       "      <td>0.2</td>\n",
       "      <td>Iris-setosa</td>\n",
       "    </tr>\n",
       "    <tr>\n",
       "      <th>2</th>\n",
       "      <td>4.7</td>\n",
       "      <td>3.2</td>\n",
       "      <td>1.3</td>\n",
       "      <td>0.2</td>\n",
       "      <td>Iris-setosa</td>\n",
       "    </tr>\n",
       "    <tr>\n",
       "      <th>3</th>\n",
       "      <td>4.6</td>\n",
       "      <td>3.1</td>\n",
       "      <td>1.5</td>\n",
       "      <td>0.2</td>\n",
       "      <td>Iris-setosa</td>\n",
       "    </tr>\n",
       "    <tr>\n",
       "      <th>4</th>\n",
       "      <td>5.0</td>\n",
       "      <td>3.6</td>\n",
       "      <td>1.4</td>\n",
       "      <td>0.2</td>\n",
       "      <td>Iris-setosa</td>\n",
       "    </tr>\n",
       "  </tbody>\n",
       "</table>\n",
       "</div>"
      ],
      "text/plain": [
       "   sepal-length  sepal-width  petal-length  petal width        class\n",
       "0           5.1          3.5           1.4          0.2  Iris-setosa\n",
       "1           4.9          3.0           1.4          0.2  Iris-setosa\n",
       "2           4.7          3.2           1.3          0.2  Iris-setosa\n",
       "3           4.6          3.1           1.5          0.2  Iris-setosa\n",
       "4           5.0          3.6           1.4          0.2  Iris-setosa"
      ]
     },
     "execution_count": 2,
     "metadata": {},
     "output_type": "execute_result"
    }
   ],
   "source": [
    "names = [\"sepal-length\",\"sepal-width\",\"petal-length\", \"petal width\",\"class\"]\n",
    "df = pd.read_csv('iris.data.csv', names = names)\n",
    "df.head()"
   ]
  },
  {
   "cell_type": "markdown",
   "metadata": {
    "id": "EE6eV8DJZVM1"
   },
   "source": [
    "# Data Understanding"
   ]
  },
  {
   "cell_type": "markdown",
   "metadata": {
    "id": "tQrsZ7VGdSYX"
   },
   "source": [
    "## check data info"
   ]
  },
  {
   "cell_type": "code",
   "execution_count": 3,
   "metadata": {
    "colab": {
     "base_uri": "https://localhost:8080/"
    },
    "executionInfo": {
     "elapsed": 43,
     "status": "ok",
     "timestamp": 1648396349438,
     "user": {
      "displayName": "Andrean Yonathan",
      "photoUrl": "https://lh3.googleusercontent.com/a/default-user=s64",
      "userId": "01683839600308987741"
     },
     "user_tz": -420
    },
    "id": "N_U9TAredS83",
    "outputId": "298f8335-a8c5-4fab-ffaf-d4b09e37fae9"
   },
   "outputs": [
    {
     "name": "stdout",
     "output_type": "stream",
     "text": [
      "<class 'pandas.core.frame.DataFrame'>\n",
      "RangeIndex: 150 entries, 0 to 149\n",
      "Data columns (total 5 columns):\n",
      " #   Column        Non-Null Count  Dtype  \n",
      "---  ------        --------------  -----  \n",
      " 0   sepal-length  150 non-null    float64\n",
      " 1   sepal-width   150 non-null    float64\n",
      " 2   petal-length  150 non-null    float64\n",
      " 3   petal width   150 non-null    float64\n",
      " 4   class         150 non-null    object \n",
      "dtypes: float64(4), object(1)\n",
      "memory usage: 6.0+ KB\n"
     ]
    }
   ],
   "source": [
    "df.info()"
   ]
  },
  {
   "cell_type": "markdown",
   "metadata": {
    "id": "Izj9g6MLZXy6"
   },
   "source": [
    "## check missing values"
   ]
  },
  {
   "cell_type": "code",
   "execution_count": 4,
   "metadata": {
    "colab": {
     "base_uri": "https://localhost:8080/"
    },
    "executionInfo": {
     "elapsed": 38,
     "status": "ok",
     "timestamp": 1648396349439,
     "user": {
      "displayName": "Andrean Yonathan",
      "photoUrl": "https://lh3.googleusercontent.com/a/default-user=s64",
      "userId": "01683839600308987741"
     },
     "user_tz": -420
    },
    "id": "TaZq9InHNTQv",
    "outputId": "f4ffe57b-0673-47d0-ea85-234e73235a68"
   },
   "outputs": [
    {
     "data": {
      "text/plain": [
       "sepal-length    0\n",
       "sepal-width     0\n",
       "petal-length    0\n",
       "petal width     0\n",
       "class           0\n",
       "dtype: int64"
      ]
     },
     "execution_count": 4,
     "metadata": {},
     "output_type": "execute_result"
    }
   ],
   "source": [
    "df.isna().sum()"
   ]
  },
  {
   "cell_type": "markdown",
   "metadata": {
    "id": "1QAmnm-lZo9W"
   },
   "source": [
    "Data has no missing values"
   ]
  },
  {
   "cell_type": "markdown",
   "metadata": {
    "id": "JSv_4tBVZvyE"
   },
   "source": [
    "## check descriptive statistics"
   ]
  },
  {
   "cell_type": "code",
   "execution_count": 5,
   "metadata": {
    "colab": {
     "base_uri": "https://localhost:8080/",
     "height": 300
    },
    "executionInfo": {
     "elapsed": 37,
     "status": "ok",
     "timestamp": 1648396349441,
     "user": {
      "displayName": "Andrean Yonathan",
      "photoUrl": "https://lh3.googleusercontent.com/a/default-user=s64",
      "userId": "01683839600308987741"
     },
     "user_tz": -420
    },
    "id": "QVfqXx40NTOl",
    "outputId": "02e48a1d-7529-4c09-a070-9e9bc678f848"
   },
   "outputs": [
    {
     "data": {
      "text/html": [
       "<div>\n",
       "<style scoped>\n",
       "    .dataframe tbody tr th:only-of-type {\n",
       "        vertical-align: middle;\n",
       "    }\n",
       "\n",
       "    .dataframe tbody tr th {\n",
       "        vertical-align: top;\n",
       "    }\n",
       "\n",
       "    .dataframe thead th {\n",
       "        text-align: right;\n",
       "    }\n",
       "</style>\n",
       "<table border=\"1\" class=\"dataframe\">\n",
       "  <thead>\n",
       "    <tr style=\"text-align: right;\">\n",
       "      <th></th>\n",
       "      <th>sepal-length</th>\n",
       "      <th>sepal-width</th>\n",
       "      <th>petal-length</th>\n",
       "      <th>petal width</th>\n",
       "    </tr>\n",
       "  </thead>\n",
       "  <tbody>\n",
       "    <tr>\n",
       "      <th>count</th>\n",
       "      <td>150.000000</td>\n",
       "      <td>150.000000</td>\n",
       "      <td>150.000000</td>\n",
       "      <td>150.000000</td>\n",
       "    </tr>\n",
       "    <tr>\n",
       "      <th>mean</th>\n",
       "      <td>5.843333</td>\n",
       "      <td>3.054000</td>\n",
       "      <td>3.758667</td>\n",
       "      <td>1.198667</td>\n",
       "    </tr>\n",
       "    <tr>\n",
       "      <th>std</th>\n",
       "      <td>0.828066</td>\n",
       "      <td>0.433594</td>\n",
       "      <td>1.764420</td>\n",
       "      <td>0.763161</td>\n",
       "    </tr>\n",
       "    <tr>\n",
       "      <th>min</th>\n",
       "      <td>4.300000</td>\n",
       "      <td>2.000000</td>\n",
       "      <td>1.000000</td>\n",
       "      <td>0.100000</td>\n",
       "    </tr>\n",
       "    <tr>\n",
       "      <th>25%</th>\n",
       "      <td>5.100000</td>\n",
       "      <td>2.800000</td>\n",
       "      <td>1.600000</td>\n",
       "      <td>0.300000</td>\n",
       "    </tr>\n",
       "    <tr>\n",
       "      <th>50%</th>\n",
       "      <td>5.800000</td>\n",
       "      <td>3.000000</td>\n",
       "      <td>4.350000</td>\n",
       "      <td>1.300000</td>\n",
       "    </tr>\n",
       "    <tr>\n",
       "      <th>75%</th>\n",
       "      <td>6.400000</td>\n",
       "      <td>3.300000</td>\n",
       "      <td>5.100000</td>\n",
       "      <td>1.800000</td>\n",
       "    </tr>\n",
       "    <tr>\n",
       "      <th>max</th>\n",
       "      <td>7.900000</td>\n",
       "      <td>4.400000</td>\n",
       "      <td>6.900000</td>\n",
       "      <td>2.500000</td>\n",
       "    </tr>\n",
       "  </tbody>\n",
       "</table>\n",
       "</div>"
      ],
      "text/plain": [
       "       sepal-length  sepal-width  petal-length  petal width\n",
       "count    150.000000   150.000000    150.000000   150.000000\n",
       "mean       5.843333     3.054000      3.758667     1.198667\n",
       "std        0.828066     0.433594      1.764420     0.763161\n",
       "min        4.300000     2.000000      1.000000     0.100000\n",
       "25%        5.100000     2.800000      1.600000     0.300000\n",
       "50%        5.800000     3.000000      4.350000     1.300000\n",
       "75%        6.400000     3.300000      5.100000     1.800000\n",
       "max        7.900000     4.400000      6.900000     2.500000"
      ]
     },
     "execution_count": 5,
     "metadata": {},
     "output_type": "execute_result"
    }
   ],
   "source": [
    "df.describe()"
   ]
  },
  {
   "cell_type": "markdown",
   "metadata": {
    "id": "ukfleMHHcOmv"
   },
   "source": [
    "## check outliers"
   ]
  },
  {
   "cell_type": "code",
   "execution_count": 6,
   "metadata": {
    "colab": {
     "base_uri": "https://localhost:8080/"
    },
    "executionInfo": {
     "elapsed": 36,
     "status": "ok",
     "timestamp": 1648396349443,
     "user": {
      "displayName": "Andrean Yonathan",
      "photoUrl": "https://lh3.googleusercontent.com/a/default-user=s64",
      "userId": "01683839600308987741"
     },
     "user_tz": -420
    },
    "id": "VhXTVBXsNTMh",
    "outputId": "0043c9e4-b42c-4930-a075-f55d2d707633"
   },
   "outputs": [
    {
     "name": "stdout",
     "output_type": "stream",
     "text": [
      "Columns sepal-length has 0 outlier\n",
      "Columns sepal-width has 4 outlier\n",
      "Columns petal-length has 0 outlier\n",
      "Columns petal width has 0 outlier\n"
     ]
    }
   ],
   "source": [
    "for col in df.columns[:-1]:\n",
    "    q1 = df[col].quantile(0.25)\n",
    "    q3 = df[col].quantile(0.75)\n",
    "    iqr = q3 - q1\n",
    "    outlier = ((df[col] < (q1 - iqr*1.5)) | (df[col] > (q3 + iqr*1.5))).sum()\n",
    "    print(f'Columns {col} has {outlier} outlier')"
   ]
  },
  {
   "cell_type": "code",
   "execution_count": 7,
   "metadata": {
    "colab": {
     "base_uri": "https://localhost:8080/",
     "height": 355
    },
    "executionInfo": {
     "elapsed": 34,
     "status": "ok",
     "timestamp": 1648396349444,
     "user": {
      "displayName": "Andrean Yonathan",
      "photoUrl": "https://lh3.googleusercontent.com/a/default-user=s64",
      "userId": "01683839600308987741"
     },
     "user_tz": -420
    },
    "id": "DQJOYYsZNTKG",
    "outputId": "ff1d8cf4-1a47-4656-9bbb-bbec2a5efbcc"
   },
   "outputs": [
    {
     "data": {
      "image/png": "[encoded data removed]",
      "text/plain": [
       "<Figure size 576x360 with 1 Axes>"
      ]
     },
     "metadata": {
      "needs_background": "light"
     },
     "output_type": "display_data"
    }
   ],
   "source": [
    "# box plot\n",
    "plt.figure(figsize = (8,5))\n",
    "plt.title('Box-plot', fontsize = 20, pad = 20)\n",
    "sns.boxplot(data = df)\n",
    "plt.show()"
   ]
  },
  {
   "cell_type": "markdown",
   "metadata": {
    "id": "jGFBh3cHdkrT"
   },
   "source": [
    "# DATA UNDERSTANDING REPORT\n",
    "\n",
    "* The data type is correct.\n",
    "* Data has no missing values.\n",
    "* There are outlier in `sepal-width` feature and will be removed."
   ]
  },
  {
   "cell_type": "markdown",
   "metadata": {
    "id": "4aVx-24NeX2R"
   },
   "source": [
    "# Data Pre-processing"
   ]
  },
  {
   "cell_type": "markdown",
   "metadata": {
    "id": "IRVy3Cibeam8"
   },
   "source": [
    "## remove outlier"
   ]
  },
  {
   "cell_type": "code",
   "execution_count": 8,
   "metadata": {
    "colab": {
     "base_uri": "https://localhost:8080/",
     "height": 459
    },
    "executionInfo": {
     "elapsed": 446,
     "status": "ok",
     "timestamp": 1648396349858,
     "user": {
      "displayName": "Andrean Yonathan",
      "photoUrl": "https://lh3.googleusercontent.com/a/default-user=s64",
      "userId": "01683839600308987741"
     },
     "user_tz": -420
    },
    "id": "ygCk72LydK4Y",
    "outputId": "4704a9fc-2508-47d7-dc41-3738f1d7bafb"
   },
   "outputs": [
    {
     "name": "stdout",
     "output_type": "stream",
     "text": [
      "Columns sepal-length has 0 outlier\n",
      "Columns sepal-width has 0 outlier\n",
      "Columns petal-length has 0 outlier\n",
      "Columns petal width has 0 outlier\n",
      "\n",
      "\n"
     ]
    },
    {
     "data": {
      "image/png": "[encoded data removed]",
      "text/plain": [
       "<Figure size 576x360 with 1 Axes>"
      ]
     },
     "metadata": {
      "needs_background": "light"
     },
     "output_type": "display_data"
    }
   ],
   "source": [
    "q1 = df['sepal-width'].quantile(0.25)\n",
    "q3 = df['sepal-width'].quantile(0.75)\n",
    "iqr = q3 - q1\n",
    "df_outlier = df[((df['sepal-width'] < (q1 - iqr*1.5)) | (df['sepal-width'] > (q3 + iqr*1.5))) == True]\n",
    "\n",
    "# replace dataset\n",
    "df.drop(df_outlier.index, inplace = True)\n",
    "\n",
    "# check outlier\n",
    "for col in df.columns[:-1]:\n",
    "    q1 = df[col].quantile(0.25)\n",
    "    q3 = df[col].quantile(0.75)\n",
    "    iqr = q3 - q1\n",
    "    outlier = ((df[col] < (q1 - iqr*1.5)) | (df[col] > (q3 + iqr*1.5))).sum()\n",
    "    print(f'Columns {col} has {outlier} outlier')\n",
    "print('\\n')\n",
    "\n",
    "# box plot\n",
    "plt.figure(figsize = (8,5))\n",
    "plt.title('Box-plot', fontsize = 20, pad = 20)\n",
    "sns.boxplot(data = df)\n",
    "plt.show()"
   ]
  },
  {
   "cell_type": "markdown",
   "metadata": {
    "id": "OGJ2tK7_jUX2"
   },
   "source": [
    "The outliers have removed"
   ]
  },
  {
   "cell_type": "markdown",
   "metadata": {
    "id": "E6V7binrjwKk"
   },
   "source": [
    "## Label Encoding"
   ]
  },
  {
   "cell_type": "code",
   "execution_count": 9,
   "metadata": {
    "colab": {
     "base_uri": "https://localhost:8080/"
    },
    "executionInfo": {
     "elapsed": 26,
     "status": "ok",
     "timestamp": 1648396349860,
     "user": {
      "displayName": "Andrean Yonathan",
      "photoUrl": "https://lh3.googleusercontent.com/a/default-user=s64",
      "userId": "01683839600308987741"
     },
     "user_tz": -420
    },
    "id": "znMSrzBqjzxB",
    "outputId": "f06e91c8-b5c0-4279-a85b-7b1aba8d5c86"
   },
   "outputs": [
    {
     "name": "stdout",
     "output_type": "stream",
     "text": [
      "{'Iris-setosa': 0, 'Iris-versicolor': 1, 'Iris-virginica': 2}\n"
     ]
    }
   ],
   "source": [
    "le = LabelEncoder()\n",
    "le.fit(df['class'])\n",
    "df['class'] = le.transform(df['class'])\n",
    "classes = dict(zip(le.classes_, le.transform(le.classes_)))\n",
    "print(classes)"
   ]
  },
  {
   "cell_type": "markdown",
   "metadata": {
    "id": "7KmQkdBkme3u"
   },
   "source": [
    "## Feature Selection"
   ]
  },
  {
   "cell_type": "code",
   "execution_count": 10,
   "metadata": {
    "colab": {
     "base_uri": "https://localhost:8080/"
    },
    "executionInfo": {
     "elapsed": 26,
     "status": "ok",
     "timestamp": 1648396349864,
     "user": {
      "displayName": "Andrean Yonathan",
      "photoUrl": "https://lh3.googleusercontent.com/a/default-user=s64",
      "userId": "01683839600308987741"
     },
     "user_tz": -420
    },
    "id": "wFu4h_n5meY8",
    "outputId": "f1e1d23d-ccd4-4ba3-aab4-c88b46ebc45e"
   },
   "outputs": [
    {
     "name": "stdout",
     "output_type": "stream",
     "text": [
      "[0.93042172 0.04694468]\n"
     ]
    }
   ],
   "source": [
    "X = df.iloc[:, :-1]\n",
    "y = df.iloc[:, -1]\n",
    "\n",
    "pca = PCA(n_components = 2)\n",
    "pca.fit(X)\n",
    "X_pca = pca.transform(X)\n",
    "print(pca.explained_variance_ratio_)"
   ]
  },
  {
   "cell_type": "markdown",
   "metadata": {
    "id": "yHx2EUSYowmU"
   },
   "source": [
    "PCA 1 is able to explain 93% of the data variance, so PCA 1 will be chosen for the classification process"
   ]
  },
  {
   "cell_type": "code",
   "execution_count": 11,
   "metadata": {
    "colab": {
     "base_uri": "https://localhost:8080/"
    },
    "executionInfo": {
     "elapsed": 26,
     "status": "ok",
     "timestamp": 1648396349867,
     "user": {
      "displayName": "Andrean Yonathan",
      "photoUrl": "https://lh3.googleusercontent.com/a/default-user=s64",
      "userId": "01683839600308987741"
     },
     "user_tz": -420
    },
    "id": "bcNrcNREpEsy",
    "outputId": "b3231625-d371-4b2d-fb32-898964fbf5af"
   },
   "outputs": [
    {
     "name": "stdout",
     "output_type": "stream",
     "text": [
      "93.04%\n"
     ]
    }
   ],
   "source": [
    "pca = PCA(n_components = 1)\n",
    "pca.fit(X)\n",
    "X_pca = pca.transform(X)\n",
    "print('{:.2%}'.format(pca.explained_variance_ratio_[0]))"
   ]
  },
  {
   "cell_type": "markdown",
   "metadata": {
    "id": "CrQ-tw9HjfeU"
   },
   "source": [
    "## Split Dataset"
   ]
  },
  {
   "cell_type": "code",
   "execution_count": 12,
   "metadata": {
    "executionInfo": {
     "elapsed": 25,
     "status": "ok",
     "timestamp": 1648396349868,
     "user": {
      "displayName": "Andrean Yonathan",
      "photoUrl": "https://lh3.googleusercontent.com/a/default-user=s64",
      "userId": "01683839600308987741"
     },
     "user_tz": -420
    },
    "id": "-Wa0nrVQdKxh"
   },
   "outputs": [],
   "source": [
    "X_train, X_test, y_train, y_test = train_test_split(X_pca, y, test_size = 0.2, random_state = 42)"
   ]
  },
  {
   "cell_type": "markdown",
   "metadata": {
    "id": "V_ZaS_aZqDOt"
   },
   "source": [
    "## Scaling"
   ]
  },
  {
   "cell_type": "code",
   "execution_count": 13,
   "metadata": {
    "executionInfo": {
     "elapsed": 26,
     "status": "ok",
     "timestamp": 1648396349869,
     "user": {
      "displayName": "Andrean Yonathan",
      "photoUrl": "https://lh3.googleusercontent.com/a/default-user=s64",
      "userId": "01683839600308987741"
     },
     "user_tz": -420
    },
    "id": "p758FxpMqDA8"
   },
   "outputs": [],
   "source": [
    "scaler = StandardScaler()\n",
    "scaler.fit(X_train)\n",
    "X_train = scaler.transform(X_train)\n",
    "X_test = scaler.transform(X_test)"
   ]
  },
  {
   "cell_type": "markdown",
   "metadata": {
    "id": "5tlaRKPbpd4z"
   },
   "source": [
    "# Modelling"
   ]
  },
  {
   "cell_type": "code",
   "execution_count": 14,
   "metadata": {
    "executionInfo": {
     "elapsed": 26,
     "status": "ok",
     "timestamp": 1648396349870,
     "user": {
      "displayName": "Andrean Yonathan",
      "photoUrl": "https://lh3.googleusercontent.com/a/default-user=s64",
      "userId": "01683839600308987741"
     },
     "user_tz": -420
    },
    "id": "v0ZzPKpVNTCO"
   },
   "outputs": [],
   "source": [
    "model = KNeighborsClassifier(n_neighbors = 30)\n",
    "\n",
    "# fit model\n",
    "model.fit(X_train, y_train)\n",
    "\n",
    "# predict\n",
    "y_pred = model.predict(X_test)"
   ]
  },
  {
   "cell_type": "markdown",
   "metadata": {
    "id": "U8VAJ02ArCak"
   },
   "source": [
    "# Evaluation"
   ]
  },
  {
   "cell_type": "code",
   "execution_count": 15,
   "metadata": {
    "colab": {
     "base_uri": "https://localhost:8080/"
    },
    "executionInfo": {
     "elapsed": 26,
     "status": "ok",
     "timestamp": 1648396349871,
     "user": {
      "displayName": "Andrean Yonathan",
      "photoUrl": "https://lh3.googleusercontent.com/a/default-user=s64",
      "userId": "01683839600308987741"
     },
     "user_tz": -420
    },
    "id": "MWi6_Emyji3c",
    "outputId": "42406e98-4593-43aa-b185-f9347bee3cc3"
   },
   "outputs": [
    {
     "name": "stdout",
     "output_type": "stream",
     "text": [
      "Accuracy score: 93.33%\n",
      "\n",
      "\n",
      "Classification report\n",
      "\n",
      "               precision    recall  f1-score   support\n",
      "\n",
      "           0       1.00      1.00      1.00        12\n",
      "           1       0.80      1.00      0.89         8\n",
      "           2       1.00      0.80      0.89        10\n",
      "\n",
      "    accuracy                           0.93        30\n",
      "   macro avg       0.93      0.93      0.93        30\n",
      "weighted avg       0.95      0.93      0.93        30\n",
      "\n"
     ]
    }
   ],
   "source": [
    "# accuracy score\n",
    "print('Accuracy score: {:.2%}'.format(accuracy_score(y_test, y_pred)))\n",
    "print('\\n')\n",
    "\n",
    "# classification report\n",
    "print('Classification report\\n\\n', classification_report(y_test, y_pred))"
   ]
  },
  {
   "cell_type": "code",
   "execution_count": 16,
   "metadata": {
    "colab": {
     "base_uri": "https://localhost:8080/",
     "height": 328
    },
    "executionInfo": {
     "elapsed": 397,
     "status": "ok",
     "timestamp": 1648396350246,
     "user": {
      "displayName": "Andrean Yonathan",
      "photoUrl": "https://lh3.googleusercontent.com/a/default-user=s64",
      "userId": "01683839600308987741"
     },
     "user_tz": -420
    },
    "id": "aifHGJgRji04",
    "outputId": "7711e52c-5c82-41ce-d140-745918757447"
   },
   "outputs": [
    {
     "data": {
      "image/png": "[encoded data removed]",
      "text/plain": [
       "<Figure size 576x360 with 2 Axes>"
      ]
     },
     "metadata": {
      "needs_background": "light"
     },
     "output_type": "display_data"
    }
   ],
   "source": [
    "# confusion matrix\n",
    "\n",
    "conf = confusion_matrix(y_test, y_pred)\n",
    "conf_df = pd.DataFrame(conf, ('Iris-setosa', 'Iris-versicolor', 'Iris-virginica'), ('Iris-setosa', 'Iris-versicolor', 'Iris-virginica'))\n",
    "\n",
    "# create heatmap\n",
    "plt.figure(figsize = (8,5))\n",
    "heatmap = sns.heatmap(conf_df, annot = True)\n",
    "heatmap.yaxis.set_ticklabels(heatmap.yaxis.get_ticklabels(), rotation=0, ha='right', fontsize=14)\n",
    "heatmap.xaxis.set_ticklabels(heatmap.xaxis.get_ticklabels(), rotation=0, ha='center', fontsize=14)\n",
    "plt.show()"
   ]
  },
  {
   "cell_type": "code",
   "execution_count": 17,
   "metadata": {
    "colab": {
     "base_uri": "https://localhost:8080/",
     "height": 421
    },
    "executionInfo": {
     "elapsed": 560,
     "status": "ok",
     "timestamp": 1648396350794,
     "user": {
      "displayName": "Andrean Yonathan",
      "photoUrl": "https://lh3.googleusercontent.com/a/default-user=s64",
      "userId": "01683839600308987741"
     },
     "user_tz": -420
    },
    "id": "9zQzNUlPu-J3",
    "outputId": "00cc255a-c88f-40b9-83b9-020aca21438c"
   },
   "outputs": [
    {
     "data": {
      "text/plain": [
       "Text(0, 0.5, 'Mean Error')"
      ]
     },
     "execution_count": 17,
     "metadata": {},
     "output_type": "execute_result"
    },
    {
     "data": {
      "image/png": "[encoded data removed]",
      "text/plain": [
       "<Figure size 864x432 with 1 Axes>"
      ]
     },
     "metadata": {
      "needs_background": "light"
     },
     "output_type": "display_data"
    }
   ],
   "source": [
    "error = []\n",
    "\n",
    "#Calculating error for K values between 1 and 40\n",
    "for i in range(1,40):\n",
    "    knn = KNeighborsClassifier(n_neighbors=i)\n",
    "    knn.fit(X_train, y_train)\n",
    "    pred_i = knn.predict(X_test)\n",
    "    error.append(np.mean(pred_i != y_test))\n",
    "\n",
    "plt.figure(figsize=(12,6))\n",
    "plt.plot(range(1,40), error, color=\"red\", linestyle=\"dashed\", marker=\"o\",\n",
    "        markerfacecolor=\"blue\", markersize=10)\n",
    "plt.title(\"Error rate K value\")\n",
    "plt.xlabel(\"K Value\")\n",
    "plt.ylabel(\"Mean Error\")"
   ]
  }
 ],
 "metadata": {
  "colab": {
   "authorship_tag": "ABX9TyPFR6H+gecjoacvRyuWQtZq",
   "collapsed_sections": [],
   "mount_file_id": "17vJ1j-rTsB3q89lVsrSQYaKm9_2HSM6z",
   "name": "Andrean Yonathan_Tugas KNN.ipynb",
   "provenance": []
  },
  "kernelspec": {
   "display_name": "Python 3 (ipykernel)",
   "language": "python",
   "name": "python3"
  },
  "language_info": {
   "codemirror_mode": {
    "name": "ipython",
    "version": 3
   },
   "file_extension": ".py",
   "mimetype": "text/x-python",
   "name": "python",
   "nbconvert_exporter": "python",
   "pygments_lexer": "ipython3",
   "version": "3.10.3"
  }
 },
 "nbformat": 4,
 "nbformat_minor": 1
}

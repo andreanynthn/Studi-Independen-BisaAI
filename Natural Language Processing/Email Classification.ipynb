{
  "cells": [
    {
      "cell_type": "markdown",
      "id": "6cf467ed",
      "metadata": {
        "id": "6cf467ed"
      },
      "source": [
        "# **EMAIL CLASSIFICATION**\n",
        "\n",
        "Author: Andrean Yonathan"
      ]
    },
    {
      "cell_type": "markdown",
      "id": "f61a6b77",
      "metadata": {
        "id": "f61a6b77"
      },
      "source": [
        "# <p style='text-align:center; font-size:150%'>Email Classification</p>\n",
        "---\n",
        "\n",
        "In this task, email classification will be done using several machine learning algorithms such as Random Forest Classifier and Logistic Regression. The process starts with getting the data that will be used, pre-processing the data, getting into the feature extraction process, and then building the model. For evaluation, we will use an accuracy score, classification report, and confusion matrix."
      ]
    },
    {
      "cell_type": "markdown",
      "id": "36f48954",
      "metadata": {
        "id": "36f48954"
      },
      "source": [
        "# Import Library"
      ]
    },
    {
      "cell_type": "code",
      "execution_count": 1,
      "id": "ffa03bcd",
      "metadata": {
        "colab": {
          "base_uri": "https://localhost:8080/"
        },
        "id": "ffa03bcd",
        "outputId": "b535ba4c-ffe3-421c-c328-5090121c0fb9"
      },
      "outputs": [
        {
          "output_type": "stream",
          "name": "stdout",
          "text": [
            "[nltk_data] Downloading package stopwords to /root/nltk_data...\n",
            "[nltk_data]   Package stopwords is already up-to-date!\n",
            "Drive already mounted at /content/drive; to attempt to forcibly remount, call drive.mount(\"/content/drive\", force_remount=True).\n"
          ]
        }
      ],
      "source": [
        "# library for data analysist\n",
        "import pandas as pd\n",
        "import numpy as np\n",
        "\n",
        "# library for visualization\n",
        "import matplotlib.pyplot as plt\n",
        "import seaborn as sns\n",
        "\n",
        "# library for text pre-processing\n",
        "import re\n",
        "import nltk\n",
        "nltk.download('stopwords')\n",
        "from sklearn.preprocessing import LabelEncoder\n",
        "from nltk.corpus import stopwords\n",
        "from nltk.stem import *\n",
        "\n",
        "# library for features extraction\n",
        "from nltk.tokenize import word_tokenize\n",
        "from sklearn.feature_extraction.text import CountVectorizer\n",
        "\n",
        "# library for build and evaluate model\n",
        "from sklearn.model_selection import train_test_split\n",
        "from sklearn.ensemble import RandomForestClassifier\n",
        "from sklearn.linear_model import LogisticRegression\n",
        "from sklearn.metrics import accuracy_score, classification_report\n",
        "from sklearn.metrics import confusion_matrix\n",
        "\n",
        "# library for save model\n",
        "import pickle\n",
        "\n",
        "# mount drive\n",
        "from google.colab import drive\n",
        "drive.mount('/content/drive')\n",
        "\n",
        "import warnings\n",
        "warnings.filterwarnings('ignore')"
      ]
    },
    {
      "cell_type": "markdown",
      "id": "f8b172e3",
      "metadata": {
        "id": "f8b172e3"
      },
      "source": [
        "# Load Dataset\n",
        "\n",
        "The data obtained from Kaggle open dataset (https://www.kaggle.com/datatattle/email-classification-nlp) and contains two files, SMS_train and SMS_test. So, we will concat this two files in one dataframe."
      ]
    },
    {
      "cell_type": "code",
      "execution_count": 2,
      "id": "dbe03110",
      "metadata": {
        "colab": {
          "base_uri": "https://localhost:8080/",
          "height": 206
        },
        "id": "dbe03110",
        "outputId": "3ce57b8a-ad7f-4c04-8fb9-0778352e2f81"
      },
      "outputs": [
        {
          "output_type": "execute_result",
          "data": {
            "text/plain": [
              "   S. No.  \\\n",
              "0  1        \n",
              "1  2        \n",
              "2  3        \n",
              "3  4        \n",
              "4  5        \n",
              "\n",
              "                                                                                                                                                       Message_body  \\\n",
              "0  Rofl. Its true to its name                                                                                                                                         \n",
              "1  The guy did some bitching but I acted like i'd be interested in buying something else next week and he gave it to us for free                                      \n",
              "2  Pity, * was in mood for that. So...any other suggestions?                                                                                                          \n",
              "3  Will ü b going to esplanade fr home?                                                                                                                               \n",
              "4  This is the 2nd time we have tried 2 contact u. U have won the £750 Pound prize. 2 claim is easy, call 087187272008 NOW1! Only 10p per minute. BT-national-rate.   \n",
              "\n",
              "      Label  \n",
              "0  Non-Spam  \n",
              "1  Non-Spam  \n",
              "2  Non-Spam  \n",
              "3  Non-Spam  \n",
              "4  Spam      "
            ],
            "text/html": [
              "\n",
              "  <div id=\"df-ed77ce4d-2dee-4319-8663-ac354cf71350\">\n",
              "    <div class=\"colab-df-container\">\n",
              "      <div>\n",
              "<style scoped>\n",
              "    .dataframe tbody tr th:only-of-type {\n",
              "        vertical-align: middle;\n",
              "    }\n",
              "\n",
              "    .dataframe tbody tr th {\n",
              "        vertical-align: top;\n",
              "    }\n",
              "\n",
              "    .dataframe thead th {\n",
              "        text-align: right;\n",
              "    }\n",
              "</style>\n",
              "<table border=\"1\" class=\"dataframe\">\n",
              "  <thead>\n",
              "    <tr style=\"text-align: right;\">\n",
              "      <th></th>\n",
              "      <th>S. No.</th>\n",
              "      <th>Message_body</th>\n",
              "      <th>Label</th>\n",
              "    </tr>\n",
              "  </thead>\n",
              "  <tbody>\n",
              "    <tr>\n",
              "      <th>0</th>\n",
              "      <td>1</td>\n",
              "      <td>Rofl. Its true to its name</td>\n",
              "      <td>Non-Spam</td>\n",
              "    </tr>\n",
              "    <tr>\n",
              "      <th>1</th>\n",
              "      <td>2</td>\n",
              "      <td>The guy did some bitching but I acted like i'd be interested in buying something else next week and he gave it to us for free</td>\n",
              "      <td>Non-Spam</td>\n",
              "    </tr>\n",
              "    <tr>\n",
              "      <th>2</th>\n",
              "      <td>3</td>\n",
              "      <td>Pity, * was in mood for that. So...any other suggestions?</td>\n",
              "      <td>Non-Spam</td>\n",
              "    </tr>\n",
              "    <tr>\n",
              "      <th>3</th>\n",
              "      <td>4</td>\n",
              "      <td>Will ü b going to esplanade fr home?</td>\n",
              "      <td>Non-Spam</td>\n",
              "    </tr>\n",
              "    <tr>\n",
              "      <th>4</th>\n",
              "      <td>5</td>\n",
              "      <td>This is the 2nd time we have tried 2 contact u. U have won the £750 Pound prize. 2 claim is easy, call 087187272008 NOW1! Only 10p per minute. BT-national-rate.</td>\n",
              "      <td>Spam</td>\n",
              "    </tr>\n",
              "  </tbody>\n",
              "</table>\n",
              "</div>\n",
              "      <button class=\"colab-df-convert\" onclick=\"convertToInteractive('df-ed77ce4d-2dee-4319-8663-ac354cf71350')\"\n",
              "              title=\"Convert this dataframe to an interactive table.\"\n",
              "              style=\"display:none;\">\n",
              "        \n",
              "  <svg xmlns=\"http://www.w3.org/2000/svg\" height=\"24px\"viewBox=\"0 0 24 24\"\n",
              "       width=\"24px\">\n",
              "    <path d=\"M0 0h24v24H0V0z\" fill=\"none\"/>\n",
              "    <path d=\"M18.56 5.44l.94 2.06.94-2.06 2.06-.94-2.06-.94-.94-2.06-.94 2.06-2.06.94zm-11 1L8.5 8.5l.94-2.06 2.06-.94-2.06-.94L8.5 2.5l-.94 2.06-2.06.94zm10 10l.94 2.06.94-2.06 2.06-.94-2.06-.94-.94-2.06-.94 2.06-2.06.94z\"/><path d=\"M17.41 7.96l-1.37-1.37c-.4-.4-.92-.59-1.43-.59-.52 0-1.04.2-1.43.59L10.3 9.45l-7.72 7.72c-.78.78-.78 2.05 0 2.83L4 21.41c.39.39.9.59 1.41.59.51 0 1.02-.2 1.41-.59l7.78-7.78 2.81-2.81c.8-.78.8-2.07 0-2.86zM5.41 20L4 18.59l7.72-7.72 1.47 1.35L5.41 20z\"/>\n",
              "  </svg>\n",
              "      </button>\n",
              "      \n",
              "  <style>\n",
              "    .colab-df-container {\n",
              "      display:flex;\n",
              "      flex-wrap:wrap;\n",
              "      gap: 12px;\n",
              "    }\n",
              "\n",
              "    .colab-df-convert {\n",
              "      background-color: #E8F0FE;\n",
              "      border: none;\n",
              "      border-radius: 50%;\n",
              "      cursor: pointer;\n",
              "      display: none;\n",
              "      fill: #1967D2;\n",
              "      height: 32px;\n",
              "      padding: 0 0 0 0;\n",
              "      width: 32px;\n",
              "    }\n",
              "\n",
              "    .colab-df-convert:hover {\n",
              "      background-color: #E2EBFA;\n",
              "      box-shadow: 0px 1px 2px rgba(60, 64, 67, 0.3), 0px 1px 3px 1px rgba(60, 64, 67, 0.15);\n",
              "      fill: #174EA6;\n",
              "    }\n",
              "\n",
              "    [theme=dark] .colab-df-convert {\n",
              "      background-color: #3B4455;\n",
              "      fill: #D2E3FC;\n",
              "    }\n",
              "\n",
              "    [theme=dark] .colab-df-convert:hover {\n",
              "      background-color: #434B5C;\n",
              "      box-shadow: 0px 1px 3px 1px rgba(0, 0, 0, 0.15);\n",
              "      filter: drop-shadow(0px 1px 2px rgba(0, 0, 0, 0.3));\n",
              "      fill: #FFFFFF;\n",
              "    }\n",
              "  </style>\n",
              "\n",
              "      <script>\n",
              "        const buttonEl =\n",
              "          document.querySelector('#df-ed77ce4d-2dee-4319-8663-ac354cf71350 button.colab-df-convert');\n",
              "        buttonEl.style.display =\n",
              "          google.colab.kernel.accessAllowed ? 'block' : 'none';\n",
              "\n",
              "        async function convertToInteractive(key) {\n",
              "          const element = document.querySelector('#df-ed77ce4d-2dee-4319-8663-ac354cf71350');\n",
              "          const dataTable =\n",
              "            await google.colab.kernel.invokeFunction('convertToInteractive',\n",
              "                                                     [key], {});\n",
              "          if (!dataTable) return;\n",
              "\n",
              "          const docLinkHtml = 'Like what you see? Visit the ' +\n",
              "            '<a target=\"_blank\" href=https://colab.research.google.com/notebooks/data_table.ipynb>data table notebook</a>'\n",
              "            + ' to learn more about interactive tables.';\n",
              "          element.innerHTML = '';\n",
              "          dataTable['output_type'] = 'display_data';\n",
              "          await google.colab.output.renderOutput(dataTable, element);\n",
              "          const docLink = document.createElement('div');\n",
              "          docLink.innerHTML = docLinkHtml;\n",
              "          element.appendChild(docLink);\n",
              "        }\n",
              "      </script>\n",
              "    </div>\n",
              "  </div>\n",
              "  "
            ]
          },
          "metadata": {},
          "execution_count": 2
        }
      ],
      "source": [
        "# load SMS_train\n",
        "df_train = pd.read_csv('/content/drive/MyDrive/SIB/Natural Language Processing/Email Classification/SMS_train.csv', encoding = 'ISO-8859-1')\n",
        "\n",
        "# load SMS_test\n",
        "df_test = pd.read_csv('/content/drive/MyDrive/SIB/Natural Language Processing/Email Classification/SMS_test.csv', encoding = 'ISO-8859-1')\n",
        "\n",
        "# concat\n",
        "df = pd.concat([df_train, df_test])\n",
        "pd.set_option('display.max_colwidth', -1)\n",
        "df.head()"
      ]
    },
    {
      "cell_type": "markdown",
      "source": [
        "# Data Understanding\n",
        "\n",
        "What will do in this process is\n",
        "\n",
        "1. Check data info\n",
        "2. Check data dimension\n",
        "3. Check missing value(s)\n",
        "4. Check wether the data is imbalance dataset or not."
      ],
      "metadata": {
        "id": "2hPko7TnAyez"
      },
      "id": "2hPko7TnAyez"
    },
    {
      "cell_type": "markdown",
      "source": [
        "## Data Info"
      ],
      "metadata": {
        "id": "pZLhNe0XPkh1"
      },
      "id": "pZLhNe0XPkh1"
    },
    {
      "cell_type": "code",
      "source": [
        "df.info()"
      ],
      "metadata": {
        "colab": {
          "base_uri": "https://localhost:8080/"
        },
        "id": "G0U8Ee3IPj1B",
        "outputId": "9f75628e-6f21-4efd-f02f-fa3228989a16"
      },
      "id": "G0U8Ee3IPj1B",
      "execution_count": 3,
      "outputs": [
        {
          "output_type": "stream",
          "name": "stdout",
          "text": [
            "<class 'pandas.core.frame.DataFrame'>\n",
            "Int64Index: 1082 entries, 0 to 124\n",
            "Data columns (total 3 columns):\n",
            " #   Column        Non-Null Count  Dtype \n",
            "---  ------        --------------  ----- \n",
            " 0   S. No.        1082 non-null   int64 \n",
            " 1   Message_body  1082 non-null   object\n",
            " 2   Label         1082 non-null   object\n",
            "dtypes: int64(1), object(2)\n",
            "memory usage: 33.8+ KB\n"
          ]
        }
      ]
    },
    {
      "cell_type": "markdown",
      "source": [
        "## Check Data Dimension"
      ],
      "metadata": {
        "id": "0jCyvGZ4PsD7"
      },
      "id": "0jCyvGZ4PsD7"
    },
    {
      "cell_type": "code",
      "source": [
        "print('The data has %d records and %d columns' %df.shape)"
      ],
      "metadata": {
        "colab": {
          "base_uri": "https://localhost:8080/"
        },
        "id": "F1G81OYvPryU",
        "outputId": "a9780e8f-16b9-47f4-8a8b-64866993d9fc"
      },
      "id": "F1G81OYvPryU",
      "execution_count": 4,
      "outputs": [
        {
          "output_type": "stream",
          "name": "stdout",
          "text": [
            "The data has 1082 records and 3 columns\n"
          ]
        }
      ]
    },
    {
      "cell_type": "markdown",
      "source": [
        "## Check Missing Value(s)"
      ],
      "metadata": {
        "id": "3SRV7GSXRo-D"
      },
      "id": "3SRV7GSXRo-D"
    },
    {
      "cell_type": "code",
      "source": [
        "df.isna().sum()"
      ],
      "metadata": {
        "colab": {
          "base_uri": "https://localhost:8080/"
        },
        "id": "j5-ghgofRoy2",
        "outputId": "c70d4256-9a1f-49fd-8b9b-74f4fc65b121"
      },
      "id": "j5-ghgofRoy2",
      "execution_count": 5,
      "outputs": [
        {
          "output_type": "execute_result",
          "data": {
            "text/plain": [
              "S. No.          0\n",
              "Message_body    0\n",
              "Label           0\n",
              "dtype: int64"
            ]
          },
          "metadata": {},
          "execution_count": 5
        }
      ]
    },
    {
      "cell_type": "markdown",
      "source": [
        "## Check Imbalance Dataset"
      ],
      "metadata": {
        "id": "OfdXg2XSMdJL"
      },
      "id": "OfdXg2XSMdJL"
    },
    {
      "cell_type": "code",
      "source": [
        "plt.figure(figsize = (8,5))\n",
        "# sns.countplot(data = df, x = 'diagnosis')\n",
        "data = [np.sum(df['Label'] == 'Non-Spam'), np.sum(df['Label'] == 'Spam')]\n",
        "labels = ['Non-Spam', 'Spam']\n",
        "plt.pie(data, labels = labels, autopct='%.2f%%')\n",
        "plt.title('Value Count of Labels')\n",
        "plt.show()"
      ],
      "metadata": {
        "colab": {
          "base_uri": "https://localhost:8080/",
          "height": 319
        },
        "id": "_azbpEonovU4",
        "outputId": "46a5fd1e-75f8-42d0-a3c5-fcba7c5135eb"
      },
      "id": "_azbpEonovU4",
      "execution_count": 6,
      "outputs": [
        {
          "output_type": "display_data",
          "data": {
            "text/plain": [
              "<Figure size 576x360 with 1 Axes>"
            ],
            "image/png": "[encoded data removed]"
          },
          "metadata": {}
        }
      ]
    },
    {
      "cell_type": "markdown",
      "source": [
        "The data is imbalance. Imbalance dataset occure when there is a significant disproportion among the number of examples of each class of the problem. To handle this, we will do a method called undersampling"
      ],
      "metadata": {
        "id": "n5_smrDlDq9S"
      },
      "id": "n5_smrDlDq9S"
    },
    {
      "cell_type": "markdown",
      "source": [
        "## Undersampling Dataset"
      ],
      "metadata": {
        "id": "bfl-59bzH-e6"
      },
      "id": "bfl-59bzH-e6"
    },
    {
      "cell_type": "code",
      "source": [
        "minor_len = len(df[df['Label'] == 'Spam'])\n",
        "major_index = df[df['Label'] == 'Non-Spam'].index\n",
        "major_random = np.random.choice(major_index,\n",
        "                             minor_len,\n",
        "                             replace = False)\n",
        "\n",
        "minor_index = df[df['Label'] == 'Spam'].index\n",
        "under_sample = np.concatenate([major_random, minor_index])\n",
        "df = df.loc[under_sample].reset_index()\n",
        "\n",
        "# graph\n",
        "plt.figure(figsize = (8,5))\n",
        "# sns.countplot(data = df, x = 'diagnosis')\n",
        "data = [np.sum(df['Label'] == 'Non-Spam'), np.sum(df['Label'] == 'Spam')]\n",
        "labels = ['Non-Spam', 'Spam']\n",
        "plt.pie(data, labels = labels, autopct='%.2f%%')\n",
        "plt.title('Value Count of Labels')\n",
        "plt.show()"
      ],
      "metadata": {
        "colab": {
          "base_uri": "https://localhost:8080/",
          "height": 319
        },
        "id": "qUqj91BCDLcP",
        "outputId": "a83f88bd-4884-44c4-a1aa-79fff8d6ecdd"
      },
      "id": "qUqj91BCDLcP",
      "execution_count": 7,
      "outputs": [
        {
          "output_type": "display_data",
          "data": {
            "text/plain": [
              "<Figure size 576x360 with 1 Axes>"
            ],
            "image/png": "[encoded data removed]"
          },
          "metadata": {}
        }
      ]
    },
    {
      "cell_type": "markdown",
      "source": [
        "Now the data is much better than before."
      ],
      "metadata": {
        "id": "u6mhHPGGIRBQ"
      },
      "id": "u6mhHPGGIRBQ"
    },
    {
      "cell_type": "markdown",
      "id": "275cd2c8",
      "metadata": {
        "id": "275cd2c8"
      },
      "source": [
        "# Text Pre-processing\n",
        "\n",
        "What will be done in this process is:\n",
        "1. Drop unnecesarry column(s).\n",
        "2. Lower casing.\n",
        "3. Label encoding for target feature.\n",
        "4. Token masking.\n",
        "5. Text cleaning, such as remove unnecessary character, remove punctuation, etc.\n",
        "6. Text normalization.\n",
        "7. Stop words removal.\n",
        "8. Stemming"
      ]
    },
    {
      "cell_type": "markdown",
      "id": "7a48424b",
      "metadata": {
        "id": "7a48424b"
      },
      "source": [
        "## Drop 'S.No' and 'index' Columns"
      ]
    },
    {
      "cell_type": "code",
      "execution_count": 8,
      "id": "78b38223",
      "metadata": {
        "colab": {
          "base_uri": "https://localhost:8080/",
          "height": 320
        },
        "id": "78b38223",
        "outputId": "f936ee67-2880-40b6-e17f-030c5c083053"
      },
      "outputs": [
        {
          "output_type": "execute_result",
          "data": {
            "text/plain": [
              "                                                                                                                                                                                                                                                                                                                                Message_body  \\\n",
              "0  Ummmmmaah Many many happy returns of d day my dear sweet heart.. HAPPY BIRTHDAY dear                                                                                                                                                                                                                                                        \n",
              "1  Why did I wake up on my own &gt;:(                                                                                                                                                                                                                                                                                                          \n",
              "2  And I don't plan on staying the night but I prolly won't be back til late                                                                                                                                                                                                                                                                   \n",
              "3  I know you are thinkin malaria. But relax, children cant handle malaria. She would have been worse and its gastroenteritis. If she takes enough to replace her loss her temp will reduce. And if you give her malaria meds now she will just vomit. Its a self limiting illness she has which means in a few days it will completely stop   \n",
              "4  Please call our customer service representative on FREEPHONE 0808 145 4742 between 9am-11pm as you have WON a guaranteed £1000 cash or £5000 prize!                                                                                                                                                                                         \n",
              "\n",
              "      Label  \n",
              "0  Non-Spam  \n",
              "1  Non-Spam  \n",
              "2  Non-Spam  \n",
              "3  Non-Spam  \n",
              "4  Spam      "
            ],
            "text/html": [
              "\n",
              "  <div id=\"df-a24c36a9-d761-4ae0-828e-7e83bb308647\">\n",
              "    <div class=\"colab-df-container\">\n",
              "      <div>\n",
              "<style scoped>\n",
              "    .dataframe tbody tr th:only-of-type {\n",
              "        vertical-align: middle;\n",
              "    }\n",
              "\n",
              "    .dataframe tbody tr th {\n",
              "        vertical-align: top;\n",
              "    }\n",
              "\n",
              "    .dataframe thead th {\n",
              "        text-align: right;\n",
              "    }\n",
              "</style>\n",
              "<table border=\"1\" class=\"dataframe\">\n",
              "  <thead>\n",
              "    <tr style=\"text-align: right;\">\n",
              "      <th></th>\n",
              "      <th>Message_body</th>\n",
              "      <th>Label</th>\n",
              "    </tr>\n",
              "  </thead>\n",
              "  <tbody>\n",
              "    <tr>\n",
              "      <th>0</th>\n",
              "      <td>Ummmmmaah Many many happy returns of d day my dear sweet heart.. HAPPY BIRTHDAY dear</td>\n",
              "      <td>Non-Spam</td>\n",
              "    </tr>\n",
              "    <tr>\n",
              "      <th>1</th>\n",
              "      <td>Why did I wake up on my own &amp;gt;:(</td>\n",
              "      <td>Non-Spam</td>\n",
              "    </tr>\n",
              "    <tr>\n",
              "      <th>2</th>\n",
              "      <td>And I don't plan on staying the night but I prolly won't be back til late</td>\n",
              "      <td>Non-Spam</td>\n",
              "    </tr>\n",
              "    <tr>\n",
              "      <th>3</th>\n",
              "      <td>I know you are thinkin malaria. But relax, children cant handle malaria. She would have been worse and its gastroenteritis. If she takes enough to replace her loss her temp will reduce. And if you give her malaria meds now she will just vomit. Its a self limiting illness she has which means in a few days it will completely stop</td>\n",
              "      <td>Non-Spam</td>\n",
              "    </tr>\n",
              "    <tr>\n",
              "      <th>4</th>\n",
              "      <td>Please call our customer service representative on FREEPHONE 0808 145 4742 between 9am-11pm as you have WON a guaranteed £1000 cash or £5000 prize!</td>\n",
              "      <td>Spam</td>\n",
              "    </tr>\n",
              "  </tbody>\n",
              "</table>\n",
              "</div>\n",
              "      <button class=\"colab-df-convert\" onclick=\"convertToInteractive('df-a24c36a9-d761-4ae0-828e-7e83bb308647')\"\n",
              "              title=\"Convert this dataframe to an interactive table.\"\n",
              "              style=\"display:none;\">\n",
              "        \n",
              "  <svg xmlns=\"http://www.w3.org/2000/svg\" height=\"24px\"viewBox=\"0 0 24 24\"\n",
              "       width=\"24px\">\n",
              "    <path d=\"M0 0h24v24H0V0z\" fill=\"none\"/>\n",
              "    <path d=\"M18.56 5.44l.94 2.06.94-2.06 2.06-.94-2.06-.94-.94-2.06-.94 2.06-2.06.94zm-11 1L8.5 8.5l.94-2.06 2.06-.94-2.06-.94L8.5 2.5l-.94 2.06-2.06.94zm10 10l.94 2.06.94-2.06 2.06-.94-2.06-.94-.94-2.06-.94 2.06-2.06.94z\"/><path d=\"M17.41 7.96l-1.37-1.37c-.4-.4-.92-.59-1.43-.59-.52 0-1.04.2-1.43.59L10.3 9.45l-7.72 7.72c-.78.78-.78 2.05 0 2.83L4 21.41c.39.39.9.59 1.41.59.51 0 1.02-.2 1.41-.59l7.78-7.78 2.81-2.81c.8-.78.8-2.07 0-2.86zM5.41 20L4 18.59l7.72-7.72 1.47 1.35L5.41 20z\"/>\n",
              "  </svg>\n",
              "      </button>\n",
              "      \n",
              "  <style>\n",
              "    .colab-df-container {\n",
              "      display:flex;\n",
              "      flex-wrap:wrap;\n",
              "      gap: 12px;\n",
              "    }\n",
              "\n",
              "    .colab-df-convert {\n",
              "      background-color: #E8F0FE;\n",
              "      border: none;\n",
              "      border-radius: 50%;\n",
              "      cursor: pointer;\n",
              "      display: none;\n",
              "      fill: #1967D2;\n",
              "      height: 32px;\n",
              "      padding: 0 0 0 0;\n",
              "      width: 32px;\n",
              "    }\n",
              "\n",
              "    .colab-df-convert:hover {\n",
              "      background-color: #E2EBFA;\n",
              "      box-shadow: 0px 1px 2px rgba(60, 64, 67, 0.3), 0px 1px 3px 1px rgba(60, 64, 67, 0.15);\n",
              "      fill: #174EA6;\n",
              "    }\n",
              "\n",
              "    [theme=dark] .colab-df-convert {\n",
              "      background-color: #3B4455;\n",
              "      fill: #D2E3FC;\n",
              "    }\n",
              "\n",
              "    [theme=dark] .colab-df-convert:hover {\n",
              "      background-color: #434B5C;\n",
              "      box-shadow: 0px 1px 3px 1px rgba(0, 0, 0, 0.15);\n",
              "      filter: drop-shadow(0px 1px 2px rgba(0, 0, 0, 0.3));\n",
              "      fill: #FFFFFF;\n",
              "    }\n",
              "  </style>\n",
              "\n",
              "      <script>\n",
              "        const buttonEl =\n",
              "          document.querySelector('#df-a24c36a9-d761-4ae0-828e-7e83bb308647 button.colab-df-convert');\n",
              "        buttonEl.style.display =\n",
              "          google.colab.kernel.accessAllowed ? 'block' : 'none';\n",
              "\n",
              "        async function convertToInteractive(key) {\n",
              "          const element = document.querySelector('#df-a24c36a9-d761-4ae0-828e-7e83bb308647');\n",
              "          const dataTable =\n",
              "            await google.colab.kernel.invokeFunction('convertToInteractive',\n",
              "                                                     [key], {});\n",
              "          if (!dataTable) return;\n",
              "\n",
              "          const docLinkHtml = 'Like what you see? Visit the ' +\n",
              "            '<a target=\"_blank\" href=https://colab.research.google.com/notebooks/data_table.ipynb>data table notebook</a>'\n",
              "            + ' to learn more about interactive tables.';\n",
              "          element.innerHTML = '';\n",
              "          dataTable['output_type'] = 'display_data';\n",
              "          await google.colab.output.renderOutput(dataTable, element);\n",
              "          const docLink = document.createElement('div');\n",
              "          docLink.innerHTML = docLinkHtml;\n",
              "          element.appendChild(docLink);\n",
              "        }\n",
              "      </script>\n",
              "    </div>\n",
              "  </div>\n",
              "  "
            ]
          },
          "metadata": {},
          "execution_count": 8
        }
      ],
      "source": [
        "df = df.drop(columns = ['S. No.', 'index'], axis = 1)\n",
        "df.head()"
      ]
    },
    {
      "cell_type": "markdown",
      "id": "19a904ce",
      "metadata": {
        "id": "19a904ce"
      },
      "source": [
        "## Lower Case"
      ]
    },
    {
      "cell_type": "code",
      "execution_count": 9,
      "id": "4d9112bd",
      "metadata": {
        "id": "4d9112bd"
      },
      "outputs": [],
      "source": [
        "lower = []\n",
        "for i in df['Message_body']:\n",
        "    i = i.lower()\n",
        "    lower.append(i)\n",
        "df['Message_body'] = lower"
      ]
    },
    {
      "cell_type": "markdown",
      "id": "035b0fd0",
      "metadata": {
        "id": "035b0fd0"
      },
      "source": [
        "## Label Encoding"
      ]
    },
    {
      "cell_type": "code",
      "execution_count": 10,
      "id": "2a481373",
      "metadata": {
        "id": "2a481373"
      },
      "outputs": [],
      "source": [
        "def labelEncoding(label):\n",
        "    le = LabelEncoder()\n",
        "    le.fit(label)\n",
        "    label = le.transform(label)\n",
        "    label_name = dict(zip(le.classes_, le.transform(le.classes_)))\n",
        "    print(label_name)\n",
        "    return label"
      ]
    },
    {
      "cell_type": "code",
      "execution_count": 11,
      "id": "17866a10",
      "metadata": {
        "colab": {
          "base_uri": "https://localhost:8080/"
        },
        "id": "17866a10",
        "outputId": "e78f74c1-04bc-4ed6-f5fb-1e0452e993ca"
      },
      "outputs": [
        {
          "output_type": "stream",
          "name": "stdout",
          "text": [
            "{'Non-Spam': 0, 'Spam': 1}\n"
          ]
        }
      ],
      "source": [
        "df['Label'] = labelEncoding(df['Label'])"
      ]
    },
    {
      "cell_type": "markdown",
      "id": "8559bb9b",
      "metadata": {
        "id": "8559bb9b"
      },
      "source": [
        "## Token Masking"
      ]
    },
    {
      "cell_type": "code",
      "execution_count": 12,
      "id": "3ffef10c",
      "metadata": {
        "id": "3ffef10c"
      },
      "outputs": [],
      "source": [
        "def token_masking(tx):\n",
        "    tx = re.sub(r'[\\d]{4,15}', 'phone number', tx) # masking phone number\n",
        "    text = []\n",
        "    for i in tx.strip().split():\n",
        "        if 'www' in i:\n",
        "            i = \"website\"\n",
        "        elif 'http' in i:\n",
        "            i = 'website'\n",
        "        elif '.com' in i:\n",
        "            i = 'website'\n",
        "        else:\n",
        "            i = i\n",
        "        text.append(i)\n",
        "        tx = ' '.join(text)\n",
        "    return tx"
      ]
    },
    {
      "cell_type": "markdown",
      "id": "32b83bd7",
      "metadata": {
        "id": "32b83bd7"
      },
      "source": [
        "## Text Cleaning"
      ]
    },
    {
      "cell_type": "code",
      "execution_count": 13,
      "id": "0ded2b19",
      "metadata": {
        "id": "0ded2b19"
      },
      "outputs": [],
      "source": [
        "def text_cleaning(tx):\n",
        "    tx = tx.replace('*', '') # replace asterik character\n",
        "    tx = tx.replace('\\n', ' ') # replace new line\n",
        "    tx = re.sub(r'#&[a-z]{2}', '', tx) # remove unnecessary character\n",
        "    tx = re.sub(r'&[a-z]{2,3}', '', tx) # remove unnecessary character\n",
        "    tx = re.sub(r'[0-9][a-x]{2}', '', tx) # remove unnecessary character\n",
        "    tx = re.sub(r'[\\d]', '', tx) # remove number\n",
        "    tx = re.sub(r'x[0-9]{2}', '', tx) # remove unnecessary character\n",
        "    tx = re.sub(r'[^\\w\\s]', '', tx) # remove punctuation\n",
        "    tx = re.sub(r' +', ' ', tx) # remove multiple space\n",
        "    rpt_regex = re.compile(r\"(.)\\1{1,}\", re.IGNORECASE) # regex to normalized repeated character like hiii\n",
        "    tx = tx.strip() # trim head and tail\n",
        "    tx = rpt_regex.sub(r\"\\1\\1\", tx) # remove repeated word\n",
        "    return tx"
      ]
    },
    {
      "cell_type": "markdown",
      "id": "1b1b02b0",
      "metadata": {
        "id": "1b1b02b0"
      },
      "source": [
        "## Text Normalization"
      ]
    },
    {
      "cell_type": "code",
      "execution_count": 14,
      "id": "88d292cf",
      "metadata": {
        "id": "88d292cf"
      },
      "outputs": [],
      "source": [
        "cons = pd.read_csv('/content/drive/MyDrive/SIB/Natural Language Processing/Email Classification/contraction.csv')\n",
        "cons_dict = dict(zip(cons['constrain'], cons['meaning']))\n",
        "\n",
        "def text_norm(tx):\n",
        "    tx = tx.replace(';','')\n",
        "    for i in tx.split():\n",
        "        if i in cons_dict.keys():\n",
        "            tx = tx.replace(i, cons_dict[i])\n",
        "    return tx"
      ]
    },
    {
      "cell_type": "markdown",
      "id": "022b997a",
      "metadata": {
        "id": "022b997a"
      },
      "source": [
        "## Stopwords Removal"
      ]
    },
    {
      "cell_type": "code",
      "execution_count": 15,
      "id": "82657a99",
      "metadata": {
        "id": "82657a99"
      },
      "outputs": [],
      "source": [
        "stop_words = stopwords.words('english')\n",
        "\n",
        "def stopwords_removal(tx):\n",
        "    word_list = tx.split()\n",
        "    tx = ' '.join(word for word in word_list if word not in stop_words)\n",
        "    return tx"
      ]
    },
    {
      "cell_type": "markdown",
      "id": "18b8cdfa",
      "metadata": {
        "id": "18b8cdfa"
      },
      "source": [
        "## Stemming"
      ]
    },
    {
      "cell_type": "code",
      "execution_count": 16,
      "id": "d3c452be",
      "metadata": {
        "id": "d3c452be"
      },
      "outputs": [],
      "source": [
        "stemmer = SnowballStemmer('english')\n",
        "\n",
        "def stemming(tx):\n",
        "    temp = []\n",
        "    for i in tx.split():\n",
        "        i = stemmer.stem(i)\n",
        "        temp.append(i)\n",
        "    tx = ' '.join(temp)\n",
        "    return tx"
      ]
    },
    {
      "cell_type": "code",
      "execution_count": 17,
      "id": "40aff4a1",
      "metadata": {
        "id": "40aff4a1"
      },
      "outputs": [],
      "source": [
        "# function for text processing\n",
        "def text_processing(text):\n",
        "    text = text.lower()\n",
        "    text = token_masking(text)\n",
        "    text = text_norm(text)\n",
        "    text = text_cleaning(text)\n",
        "    text = stopwords_removal(text)\n",
        "    text = stemming(text)\n",
        "    return text"
      ]
    },
    {
      "cell_type": "code",
      "execution_count": 18,
      "id": "d488f680",
      "metadata": {
        "id": "d488f680"
      },
      "outputs": [],
      "source": [
        "text_list = []\n",
        "for text in list(df['Message_body']):\n",
        "    text = text_processing(text)\n",
        "    text_list.append(text)\n",
        "df['Message_body'] = text_list"
      ]
    },
    {
      "cell_type": "code",
      "execution_count": 19,
      "id": "c8a758dc",
      "metadata": {
        "id": "c8a758dc"
      },
      "outputs": [],
      "source": [
        "df_features = df['Message_body']\n",
        "df_target = df['Label']"
      ]
    },
    {
      "cell_type": "code",
      "source": [
        "df.head()"
      ],
      "metadata": {
        "colab": {
          "base_uri": "https://localhost:8080/",
          "height": 206
        },
        "id": "7x1nnlEuITlL",
        "outputId": "9eb0c705-8eaf-43af-e571-4c0b38482ef1"
      },
      "id": "7x1nnlEuITlL",
      "execution_count": 20,
      "outputs": [
        {
          "output_type": "execute_result",
          "data": {
            "text/plain": [
              "                                                                                                                                                                     Message_body  \\\n",
              "0  ummaah mani mani happi return day dear sweet heart happi birthday dear                                                                                                           \n",
              "1  wake                                                                                                                                                                             \n",
              "2  plan stay night prolli back til late                                                                                                                                             \n",
              "3  know thinkin malaria relax children cannot handl malaria would wors gastroenter take enough replac loss temp reduc give malaria med vomit self limit ill mean day complet stop   \n",
              "4  pleas call custom servic repres freephon phone number phone number guarante phone number cash phone number prize                                                                 \n",
              "\n",
              "   Label  \n",
              "0  0      \n",
              "1  0      \n",
              "2  0      \n",
              "3  0      \n",
              "4  1      "
            ],
            "text/html": [
              "\n",
              "  <div id=\"df-f961b8f7-0ca8-439c-a96c-1c7f12b7110e\">\n",
              "    <div class=\"colab-df-container\">\n",
              "      <div>\n",
              "<style scoped>\n",
              "    .dataframe tbody tr th:only-of-type {\n",
              "        vertical-align: middle;\n",
              "    }\n",
              "\n",
              "    .dataframe tbody tr th {\n",
              "        vertical-align: top;\n",
              "    }\n",
              "\n",
              "    .dataframe thead th {\n",
              "        text-align: right;\n",
              "    }\n",
              "</style>\n",
              "<table border=\"1\" class=\"dataframe\">\n",
              "  <thead>\n",
              "    <tr style=\"text-align: right;\">\n",
              "      <th></th>\n",
              "      <th>Message_body</th>\n",
              "      <th>Label</th>\n",
              "    </tr>\n",
              "  </thead>\n",
              "  <tbody>\n",
              "    <tr>\n",
              "      <th>0</th>\n",
              "      <td>ummaah mani mani happi return day dear sweet heart happi birthday dear</td>\n",
              "      <td>0</td>\n",
              "    </tr>\n",
              "    <tr>\n",
              "      <th>1</th>\n",
              "      <td>wake</td>\n",
              "      <td>0</td>\n",
              "    </tr>\n",
              "    <tr>\n",
              "      <th>2</th>\n",
              "      <td>plan stay night prolli back til late</td>\n",
              "      <td>0</td>\n",
              "    </tr>\n",
              "    <tr>\n",
              "      <th>3</th>\n",
              "      <td>know thinkin malaria relax children cannot handl malaria would wors gastroenter take enough replac loss temp reduc give malaria med vomit self limit ill mean day complet stop</td>\n",
              "      <td>0</td>\n",
              "    </tr>\n",
              "    <tr>\n",
              "      <th>4</th>\n",
              "      <td>pleas call custom servic repres freephon phone number phone number guarante phone number cash phone number prize</td>\n",
              "      <td>1</td>\n",
              "    </tr>\n",
              "  </tbody>\n",
              "</table>\n",
              "</div>\n",
              "      <button class=\"colab-df-convert\" onclick=\"convertToInteractive('df-f961b8f7-0ca8-439c-a96c-1c7f12b7110e')\"\n",
              "              title=\"Convert this dataframe to an interactive table.\"\n",
              "              style=\"display:none;\">\n",
              "        \n",
              "  <svg xmlns=\"http://www.w3.org/2000/svg\" height=\"24px\"viewBox=\"0 0 24 24\"\n",
              "       width=\"24px\">\n",
              "    <path d=\"M0 0h24v24H0V0z\" fill=\"none\"/>\n",
              "    <path d=\"M18.56 5.44l.94 2.06.94-2.06 2.06-.94-2.06-.94-.94-2.06-.94 2.06-2.06.94zm-11 1L8.5 8.5l.94-2.06 2.06-.94-2.06-.94L8.5 2.5l-.94 2.06-2.06.94zm10 10l.94 2.06.94-2.06 2.06-.94-2.06-.94-.94-2.06-.94 2.06-2.06.94z\"/><path d=\"M17.41 7.96l-1.37-1.37c-.4-.4-.92-.59-1.43-.59-.52 0-1.04.2-1.43.59L10.3 9.45l-7.72 7.72c-.78.78-.78 2.05 0 2.83L4 21.41c.39.39.9.59 1.41.59.51 0 1.02-.2 1.41-.59l7.78-7.78 2.81-2.81c.8-.78.8-2.07 0-2.86zM5.41 20L4 18.59l7.72-7.72 1.47 1.35L5.41 20z\"/>\n",
              "  </svg>\n",
              "      </button>\n",
              "      \n",
              "  <style>\n",
              "    .colab-df-container {\n",
              "      display:flex;\n",
              "      flex-wrap:wrap;\n",
              "      gap: 12px;\n",
              "    }\n",
              "\n",
              "    .colab-df-convert {\n",
              "      background-color: #E8F0FE;\n",
              "      border: none;\n",
              "      border-radius: 50%;\n",
              "      cursor: pointer;\n",
              "      display: none;\n",
              "      fill: #1967D2;\n",
              "      height: 32px;\n",
              "      padding: 0 0 0 0;\n",
              "      width: 32px;\n",
              "    }\n",
              "\n",
              "    .colab-df-convert:hover {\n",
              "      background-color: #E2EBFA;\n",
              "      box-shadow: 0px 1px 2px rgba(60, 64, 67, 0.3), 0px 1px 3px 1px rgba(60, 64, 67, 0.15);\n",
              "      fill: #174EA6;\n",
              "    }\n",
              "\n",
              "    [theme=dark] .colab-df-convert {\n",
              "      background-color: #3B4455;\n",
              "      fill: #D2E3FC;\n",
              "    }\n",
              "\n",
              "    [theme=dark] .colab-df-convert:hover {\n",
              "      background-color: #434B5C;\n",
              "      box-shadow: 0px 1px 3px 1px rgba(0, 0, 0, 0.15);\n",
              "      filter: drop-shadow(0px 1px 2px rgba(0, 0, 0, 0.3));\n",
              "      fill: #FFFFFF;\n",
              "    }\n",
              "  </style>\n",
              "\n",
              "      <script>\n",
              "        const buttonEl =\n",
              "          document.querySelector('#df-f961b8f7-0ca8-439c-a96c-1c7f12b7110e button.colab-df-convert');\n",
              "        buttonEl.style.display =\n",
              "          google.colab.kernel.accessAllowed ? 'block' : 'none';\n",
              "\n",
              "        async function convertToInteractive(key) {\n",
              "          const element = document.querySelector('#df-f961b8f7-0ca8-439c-a96c-1c7f12b7110e');\n",
              "          const dataTable =\n",
              "            await google.colab.kernel.invokeFunction('convertToInteractive',\n",
              "                                                     [key], {});\n",
              "          if (!dataTable) return;\n",
              "\n",
              "          const docLinkHtml = 'Like what you see? Visit the ' +\n",
              "            '<a target=\"_blank\" href=https://colab.research.google.com/notebooks/data_table.ipynb>data table notebook</a>'\n",
              "            + ' to learn more about interactive tables.';\n",
              "          element.innerHTML = '';\n",
              "          dataTable['output_type'] = 'display_data';\n",
              "          await google.colab.output.renderOutput(dataTable, element);\n",
              "          const docLink = document.createElement('div');\n",
              "          docLink.innerHTML = docLinkHtml;\n",
              "          element.appendChild(docLink);\n",
              "        }\n",
              "      </script>\n",
              "    </div>\n",
              "  </div>\n",
              "  "
            ]
          },
          "metadata": {},
          "execution_count": 20
        }
      ]
    },
    {
      "cell_type": "markdown",
      "id": "f5bfdd0d",
      "metadata": {
        "id": "f5bfdd0d"
      },
      "source": [
        "# Features Extraction\n",
        "\n",
        "What will be done in this process is:\n",
        "1. Tokenization.\n",
        "2. Count vectorizer\n",
        "3. Split dataset."
      ]
    },
    {
      "cell_type": "markdown",
      "id": "5319a6d1",
      "metadata": {
        "id": "5319a6d1"
      },
      "source": [
        "## Tokenization"
      ]
    },
    {
      "cell_type": "code",
      "execution_count": 21,
      "id": "f80941e2",
      "metadata": {
        "id": "f80941e2"
      },
      "outputs": [],
      "source": [
        "# function for features extraction\n",
        "def feature_extraction(feature, label):\n",
        "    token = CountVectorizer()\n",
        "    df_features_token = token.fit_transform(feature)\n",
        "    df_token = pd.DataFrame(df_features_token.toarray(), columns = token.get_feature_names_out())\n",
        "    df_token = pd.concat([df_token, feature, label], axis = 1)\n",
        "    df_token.set_index(feature, inplace = True)\n",
        "    df_token.drop(columns = 'Message_body', inplace = True)\n",
        "    return df_token"
      ]
    },
    {
      "cell_type": "code",
      "execution_count": 22,
      "id": "4c38239e",
      "metadata": {
        "colab": {
          "base_uri": "https://localhost:8080/",
          "height": 432
        },
        "id": "4c38239e",
        "outputId": "9fed91b5-aa35-4548-d976-2bc9c4a07f20"
      },
      "outputs": [
        {
          "output_type": "execute_result",
          "data": {
            "text/plain": [
              "                                                                                                                                                                                aare  \\\n",
              "Message_body                                                                                                                                                                           \n",
              "ummaah mani mani happi return day dear sweet heart happi birthday dear                                                                                                          0      \n",
              "wake                                                                                                                                                                            0      \n",
              "plan stay night prolli back til late                                                                                                                                            0      \n",
              "know thinkin malaria relax children cannot handl malaria would wors gastroenter take enough replac loss temp reduc give malaria med vomit self limit ill mean day complet stop  0      \n",
              "pleas call custom servic repres freephon phone number phone number guarante phone number cash phone number prize                                                                0      \n",
              "\n",
              "                                                                                                                                                                                aareeoom  \\\n",
              "Message_body                                                                                                                                                                               \n",
              "ummaah mani mani happi return day dear sweet heart happi birthday dear                                                                                                          0          \n",
              "wake                                                                                                                                                                            0          \n",
              "plan stay night prolli back til late                                                                                                                                            0          \n",
              "know thinkin malaria relax children cannot handl malaria would wors gastroenter take enough replac loss temp reduc give malaria med vomit self limit ill mean day complet stop  0          \n",
              "pleas call custom servic repres freephon phone number phone number guarante phone number cash phone number prize                                                                0          \n",
              "\n",
              "                                                                                                                                                                                aberdeen  \\\n",
              "Message_body                                                                                                                                                                               \n",
              "ummaah mani mani happi return day dear sweet heart happi birthday dear                                                                                                          0          \n",
              "wake                                                                                                                                                                            0          \n",
              "plan stay night prolli back til late                                                                                                                                            0          \n",
              "know thinkin malaria relax children cannot handl malaria would wors gastroenter take enough replac loss temp reduc give malaria med vomit self limit ill mean day complet stop  0          \n",
              "pleas call custom servic repres freephon phone number phone number guarante phone number cash phone number prize                                                                0          \n",
              "\n",
              "                                                                                                                                                                                abl  \\\n",
              "Message_body                                                                                                                                                                          \n",
              "ummaah mani mani happi return day dear sweet heart happi birthday dear                                                                                                          0     \n",
              "wake                                                                                                                                                                            0     \n",
              "plan stay night prolli back til late                                                                                                                                            0     \n",
              "know thinkin malaria relax children cannot handl malaria would wors gastroenter take enough replac loss temp reduc give malaria med vomit self limit ill mean day complet stop  0     \n",
              "pleas call custom servic repres freephon phone number phone number guarante phone number cash phone number prize                                                                0     \n",
              "\n",
              "                                                                                                                                                                                abstract  \\\n",
              "Message_body                                                                                                                                                                               \n",
              "ummaah mani mani happi return day dear sweet heart happi birthday dear                                                                                                          0          \n",
              "wake                                                                                                                                                                            0          \n",
              "plan stay night prolli back til late                                                                                                                                            0          \n",
              "know thinkin malaria relax children cannot handl malaria would wors gastroenter take enough replac loss temp reduc give malaria med vomit self limit ill mean day complet stop  0          \n",
              "pleas call custom servic repres freephon phone number phone number guarante phone number cash phone number prize                                                                0          \n",
              "\n",
              "                                                                                                                                                                                abt  \\\n",
              "Message_body                                                                                                                                                                          \n",
              "ummaah mani mani happi return day dear sweet heart happi birthday dear                                                                                                          0     \n",
              "wake                                                                                                                                                                            0     \n",
              "plan stay night prolli back til late                                                                                                                                            0     \n",
              "know thinkin malaria relax children cannot handl malaria would wors gastroenter take enough replac loss temp reduc give malaria med vomit self limit ill mean day complet stop  0     \n",
              "pleas call custom servic repres freephon phone number phone number guarante phone number cash phone number prize                                                                0     \n",
              "\n",
              "                                                                                                                                                                                ac  \\\n",
              "Message_body                                                                                                                                                                         \n",
              "ummaah mani mani happi return day dear sweet heart happi birthday dear                                                                                                          0    \n",
              "wake                                                                                                                                                                            0    \n",
              "plan stay night prolli back til late                                                                                                                                            0    \n",
              "know thinkin malaria relax children cannot handl malaria would wors gastroenter take enough replac loss temp reduc give malaria med vomit self limit ill mean day complet stop  0    \n",
              "pleas call custom servic repres freephon phone number phone number guarante phone number cash phone number prize                                                                0    \n",
              "\n",
              "                                                                                                                                                                                accent  \\\n",
              "Message_body                                                                                                                                                                             \n",
              "ummaah mani mani happi return day dear sweet heart happi birthday dear                                                                                                          0        \n",
              "wake                                                                                                                                                                            0        \n",
              "plan stay night prolli back til late                                                                                                                                            0        \n",
              "know thinkin malaria relax children cannot handl malaria would wors gastroenter take enough replac loss temp reduc give malaria med vomit self limit ill mean day complet stop  0        \n",
              "pleas call custom servic repres freephon phone number phone number guarante phone number cash phone number prize                                                                0        \n",
              "\n",
              "                                                                                                                                                                                access  \\\n",
              "Message_body                                                                                                                                                                             \n",
              "ummaah mani mani happi return day dear sweet heart happi birthday dear                                                                                                          0        \n",
              "wake                                                                                                                                                                            0        \n",
              "plan stay night prolli back til late                                                                                                                                            0        \n",
              "know thinkin malaria relax children cannot handl malaria would wors gastroenter take enough replac loss temp reduc give malaria med vomit self limit ill mean day complet stop  0        \n",
              "pleas call custom servic repres freephon phone number phone number guarante phone number cash phone number prize                                                                0        \n",
              "\n",
              "                                                                                                                                                                                accid  \\\n",
              "Message_body                                                                                                                                                                            \n",
              "ummaah mani mani happi return day dear sweet heart happi birthday dear                                                                                                          0       \n",
              "wake                                                                                                                                                                            0       \n",
              "plan stay night prolli back til late                                                                                                                                            0       \n",
              "know thinkin malaria relax children cannot handl malaria would wors gastroenter take enough replac loss temp reduc give malaria med vomit self limit ill mean day complet stop  0       \n",
              "pleas call custom servic repres freephon phone number phone number guarante phone number cash phone number prize                                                                0       \n",
              "\n",
              "                                                                                                                                                                                ...  \\\n",
              "Message_body                                                                                                                                                                    ...   \n",
              "ummaah mani mani happi return day dear sweet heart happi birthday dear                                                                                                          ...   \n",
              "wake                                                                                                                                                                            ...   \n",
              "plan stay night prolli back til late                                                                                                                                            ...   \n",
              "know thinkin malaria relax children cannot handl malaria would wors gastroenter take enough replac loss temp reduc give malaria med vomit self limit ill mean day complet stop  ...   \n",
              "pleas call custom servic repres freephon phone number phone number guarante phone number cash phone number prize                                                                ...   \n",
              "\n",
              "                                                                                                                                                                                yrs  \\\n",
              "Message_body                                                                                                                                                                          \n",
              "ummaah mani mani happi return day dear sweet heart happi birthday dear                                                                                                          0     \n",
              "wake                                                                                                                                                                            0     \n",
              "plan stay night prolli back til late                                                                                                                                            0     \n",
              "know thinkin malaria relax children cannot handl malaria would wors gastroenter take enough replac loss temp reduc give malaria med vomit self limit ill mean day complet stop  0     \n",
              "pleas call custom servic repres freephon phone number phone number guarante phone number cash phone number prize                                                                0     \n",
              "\n",
              "                                                                                                                                                                                ys  \\\n",
              "Message_body                                                                                                                                                                         \n",
              "ummaah mani mani happi return day dear sweet heart happi birthday dear                                                                                                          0    \n",
              "wake                                                                                                                                                                            0    \n",
              "plan stay night prolli back til late                                                                                                                                            0    \n",
              "know thinkin malaria relax children cannot handl malaria would wors gastroenter take enough replac loss temp reduc give malaria med vomit self limit ill mean day complet stop  0    \n",
              "pleas call custom servic repres freephon phone number phone number guarante phone number cash phone number prize                                                                0    \n",
              "\n",
              "                                                                                                                                                                                yummi  \\\n",
              "Message_body                                                                                                                                                                            \n",
              "ummaah mani mani happi return day dear sweet heart happi birthday dear                                                                                                          0       \n",
              "wake                                                                                                                                                                            0       \n",
              "plan stay night prolli back til late                                                                                                                                            0       \n",
              "know thinkin malaria relax children cannot handl malaria would wors gastroenter take enough replac loss temp reduc give malaria med vomit self limit ill mean day complet stop  0       \n",
              "pleas call custom servic repres freephon phone number phone number guarante phone number cash phone number prize                                                                0       \n",
              "\n",
              "                                                                                                                                                                                yuo  \\\n",
              "Message_body                                                                                                                                                                          \n",
              "ummaah mani mani happi return day dear sweet heart happi birthday dear                                                                                                          0     \n",
              "wake                                                                                                                                                                            0     \n",
              "plan stay night prolli back til late                                                                                                                                            0     \n",
              "know thinkin malaria relax children cannot handl malaria would wors gastroenter take enough replac loss temp reduc give malaria med vomit self limit ill mean day complet stop  0     \n",
              "pleas call custom servic repres freephon phone number phone number guarante phone number cash phone number prize                                                                0     \n",
              "\n",
              "                                                                                                                                                                                yup  \\\n",
              "Message_body                                                                                                                                                                          \n",
              "ummaah mani mani happi return day dear sweet heart happi birthday dear                                                                                                          0     \n",
              "wake                                                                                                                                                                            0     \n",
              "plan stay night prolli back til late                                                                                                                                            0     \n",
              "know thinkin malaria relax children cannot handl malaria would wors gastroenter take enough replac loss temp reduc give malaria med vomit self limit ill mean day complet stop  0     \n",
              "pleas call custom servic repres freephon phone number phone number guarante phone number cash phone number prize                                                                0     \n",
              "\n",
              "                                                                                                                                                                                zebra  \\\n",
              "Message_body                                                                                                                                                                            \n",
              "ummaah mani mani happi return day dear sweet heart happi birthday dear                                                                                                          0       \n",
              "wake                                                                                                                                                                            0       \n",
              "plan stay night prolli back til late                                                                                                                                            0       \n",
              "know thinkin malaria relax children cannot handl malaria would wors gastroenter take enough replac loss temp reduc give malaria med vomit self limit ill mean day complet stop  0       \n",
              "pleas call custom servic repres freephon phone number phone number guarante phone number cash phone number prize                                                                0       \n",
              "\n",
              "                                                                                                                                                                                zed  \\\n",
              "Message_body                                                                                                                                                                          \n",
              "ummaah mani mani happi return day dear sweet heart happi birthday dear                                                                                                          0     \n",
              "wake                                                                                                                                                                            0     \n",
              "plan stay night prolli back til late                                                                                                                                            0     \n",
              "know thinkin malaria relax children cannot handl malaria would wors gastroenter take enough replac loss temp reduc give malaria med vomit self limit ill mean day complet stop  0     \n",
              "pleas call custom servic repres freephon phone number phone number guarante phone number cash phone number prize                                                                0     \n",
              "\n",
              "                                                                                                                                                                                zf  \\\n",
              "Message_body                                                                                                                                                                         \n",
              "ummaah mani mani happi return day dear sweet heart happi birthday dear                                                                                                          0    \n",
              "wake                                                                                                                                                                            0    \n",
              "plan stay night prolli back til late                                                                                                                                            0    \n",
              "know thinkin malaria relax children cannot handl malaria would wors gastroenter take enough replac loss temp reduc give malaria med vomit self limit ill mean day complet stop  0    \n",
              "pleas call custom servic repres freephon phone number phone number guarante phone number cash phone number prize                                                                0    \n",
              "\n",
              "                                                                                                                                                                                zs  \\\n",
              "Message_body                                                                                                                                                                         \n",
              "ummaah mani mani happi return day dear sweet heart happi birthday dear                                                                                                          0    \n",
              "wake                                                                                                                                                                            0    \n",
              "plan stay night prolli back til late                                                                                                                                            0    \n",
              "know thinkin malaria relax children cannot handl malaria would wors gastroenter take enough replac loss temp reduc give malaria med vomit self limit ill mean day complet stop  0    \n",
              "pleas call custom servic repres freephon phone number phone number guarante phone number cash phone number prize                                                                0    \n",
              "\n",
              "                                                                                                                                                                                Label  \n",
              "Message_body                                                                                                                                                                           \n",
              "ummaah mani mani happi return day dear sweet heart happi birthday dear                                                                                                          0      \n",
              "wake                                                                                                                                                                            0      \n",
              "plan stay night prolli back til late                                                                                                                                            0      \n",
              "know thinkin malaria relax children cannot handl malaria would wors gastroenter take enough replac loss temp reduc give malaria med vomit self limit ill mean day complet stop  0      \n",
              "pleas call custom servic repres freephon phone number phone number guarante phone number cash phone number prize                                                                1      \n",
              "\n",
              "[5 rows x 1721 columns]"
            ],
            "text/html": [
              "\n",
              "  <div id=\"df-422c9c08-cb24-4d41-a32b-a5ef7b9c40fd\">\n",
              "    <div class=\"colab-df-container\">\n",
              "      <div>\n",
              "<style scoped>\n",
              "    .dataframe tbody tr th:only-of-type {\n",
              "        vertical-align: middle;\n",
              "    }\n",
              "\n",
              "    .dataframe tbody tr th {\n",
              "        vertical-align: top;\n",
              "    }\n",
              "\n",
              "    .dataframe thead th {\n",
              "        text-align: right;\n",
              "    }\n",
              "</style>\n",
              "<table border=\"1\" class=\"dataframe\">\n",
              "  <thead>\n",
              "    <tr style=\"text-align: right;\">\n",
              "      <th></th>\n",
              "      <th>aare</th>\n",
              "      <th>aareeoom</th>\n",
              "      <th>aberdeen</th>\n",
              "      <th>abl</th>\n",
              "      <th>abstract</th>\n",
              "      <th>abt</th>\n",
              "      <th>ac</th>\n",
              "      <th>accent</th>\n",
              "      <th>access</th>\n",
              "      <th>accid</th>\n",
              "      <th>...</th>\n",
              "      <th>yrs</th>\n",
              "      <th>ys</th>\n",
              "      <th>yummi</th>\n",
              "      <th>yuo</th>\n",
              "      <th>yup</th>\n",
              "      <th>zebra</th>\n",
              "      <th>zed</th>\n",
              "      <th>zf</th>\n",
              "      <th>zs</th>\n",
              "      <th>Label</th>\n",
              "    </tr>\n",
              "    <tr>\n",
              "      <th>Message_body</th>\n",
              "      <th></th>\n",
              "      <th></th>\n",
              "      <th></th>\n",
              "      <th></th>\n",
              "      <th></th>\n",
              "      <th></th>\n",
              "      <th></th>\n",
              "      <th></th>\n",
              "      <th></th>\n",
              "      <th></th>\n",
              "      <th></th>\n",
              "      <th></th>\n",
              "      <th></th>\n",
              "      <th></th>\n",
              "      <th></th>\n",
              "      <th></th>\n",
              "      <th></th>\n",
              "      <th></th>\n",
              "      <th></th>\n",
              "      <th></th>\n",
              "      <th></th>\n",
              "    </tr>\n",
              "  </thead>\n",
              "  <tbody>\n",
              "    <tr>\n",
              "      <th>ummaah mani mani happi return day dear sweet heart happi birthday dear</th>\n",
              "      <td>0</td>\n",
              "      <td>0</td>\n",
              "      <td>0</td>\n",
              "      <td>0</td>\n",
              "      <td>0</td>\n",
              "      <td>0</td>\n",
              "      <td>0</td>\n",
              "      <td>0</td>\n",
              "      <td>0</td>\n",
              "      <td>0</td>\n",
              "      <td>...</td>\n",
              "      <td>0</td>\n",
              "      <td>0</td>\n",
              "      <td>0</td>\n",
              "      <td>0</td>\n",
              "      <td>0</td>\n",
              "      <td>0</td>\n",
              "      <td>0</td>\n",
              "      <td>0</td>\n",
              "      <td>0</td>\n",
              "      <td>0</td>\n",
              "    </tr>\n",
              "    <tr>\n",
              "      <th>wake</th>\n",
              "      <td>0</td>\n",
              "      <td>0</td>\n",
              "      <td>0</td>\n",
              "      <td>0</td>\n",
              "      <td>0</td>\n",
              "      <td>0</td>\n",
              "      <td>0</td>\n",
              "      <td>0</td>\n",
              "      <td>0</td>\n",
              "      <td>0</td>\n",
              "      <td>...</td>\n",
              "      <td>0</td>\n",
              "      <td>0</td>\n",
              "      <td>0</td>\n",
              "      <td>0</td>\n",
              "      <td>0</td>\n",
              "      <td>0</td>\n",
              "      <td>0</td>\n",
              "      <td>0</td>\n",
              "      <td>0</td>\n",
              "      <td>0</td>\n",
              "    </tr>\n",
              "    <tr>\n",
              "      <th>plan stay night prolli back til late</th>\n",
              "      <td>0</td>\n",
              "      <td>0</td>\n",
              "      <td>0</td>\n",
              "      <td>0</td>\n",
              "      <td>0</td>\n",
              "      <td>0</td>\n",
              "      <td>0</td>\n",
              "      <td>0</td>\n",
              "      <td>0</td>\n",
              "      <td>0</td>\n",
              "      <td>...</td>\n",
              "      <td>0</td>\n",
              "      <td>0</td>\n",
              "      <td>0</td>\n",
              "      <td>0</td>\n",
              "      <td>0</td>\n",
              "      <td>0</td>\n",
              "      <td>0</td>\n",
              "      <td>0</td>\n",
              "      <td>0</td>\n",
              "      <td>0</td>\n",
              "    </tr>\n",
              "    <tr>\n",
              "      <th>know thinkin malaria relax children cannot handl malaria would wors gastroenter take enough replac loss temp reduc give malaria med vomit self limit ill mean day complet stop</th>\n",
              "      <td>0</td>\n",
              "      <td>0</td>\n",
              "      <td>0</td>\n",
              "      <td>0</td>\n",
              "      <td>0</td>\n",
              "      <td>0</td>\n",
              "      <td>0</td>\n",
              "      <td>0</td>\n",
              "      <td>0</td>\n",
              "      <td>0</td>\n",
              "      <td>...</td>\n",
              "      <td>0</td>\n",
              "      <td>0</td>\n",
              "      <td>0</td>\n",
              "      <td>0</td>\n",
              "      <td>0</td>\n",
              "      <td>0</td>\n",
              "      <td>0</td>\n",
              "      <td>0</td>\n",
              "      <td>0</td>\n",
              "      <td>0</td>\n",
              "    </tr>\n",
              "    <tr>\n",
              "      <th>pleas call custom servic repres freephon phone number phone number guarante phone number cash phone number prize</th>\n",
              "      <td>0</td>\n",
              "      <td>0</td>\n",
              "      <td>0</td>\n",
              "      <td>0</td>\n",
              "      <td>0</td>\n",
              "      <td>0</td>\n",
              "      <td>0</td>\n",
              "      <td>0</td>\n",
              "      <td>0</td>\n",
              "      <td>0</td>\n",
              "      <td>...</td>\n",
              "      <td>0</td>\n",
              "      <td>0</td>\n",
              "      <td>0</td>\n",
              "      <td>0</td>\n",
              "      <td>0</td>\n",
              "      <td>0</td>\n",
              "      <td>0</td>\n",
              "      <td>0</td>\n",
              "      <td>0</td>\n",
              "      <td>1</td>\n",
              "    </tr>\n",
              "  </tbody>\n",
              "</table>\n",
              "<p>5 rows × 1721 columns</p>\n",
              "</div>\n",
              "      <button class=\"colab-df-convert\" onclick=\"convertToInteractive('df-422c9c08-cb24-4d41-a32b-a5ef7b9c40fd')\"\n",
              "              title=\"Convert this dataframe to an interactive table.\"\n",
              "              style=\"display:none;\">\n",
              "        \n",
              "  <svg xmlns=\"http://www.w3.org/2000/svg\" height=\"24px\"viewBox=\"0 0 24 24\"\n",
              "       width=\"24px\">\n",
              "    <path d=\"M0 0h24v24H0V0z\" fill=\"none\"/>\n",
              "    <path d=\"M18.56 5.44l.94 2.06.94-2.06 2.06-.94-2.06-.94-.94-2.06-.94 2.06-2.06.94zm-11 1L8.5 8.5l.94-2.06 2.06-.94-2.06-.94L8.5 2.5l-.94 2.06-2.06.94zm10 10l.94 2.06.94-2.06 2.06-.94-2.06-.94-.94-2.06-.94 2.06-2.06.94z\"/><path d=\"M17.41 7.96l-1.37-1.37c-.4-.4-.92-.59-1.43-.59-.52 0-1.04.2-1.43.59L10.3 9.45l-7.72 7.72c-.78.78-.78 2.05 0 2.83L4 21.41c.39.39.9.59 1.41.59.51 0 1.02-.2 1.41-.59l7.78-7.78 2.81-2.81c.8-.78.8-2.07 0-2.86zM5.41 20L4 18.59l7.72-7.72 1.47 1.35L5.41 20z\"/>\n",
              "  </svg>\n",
              "      </button>\n",
              "      \n",
              "  <style>\n",
              "    .colab-df-container {\n",
              "      display:flex;\n",
              "      flex-wrap:wrap;\n",
              "      gap: 12px;\n",
              "    }\n",
              "\n",
              "    .colab-df-convert {\n",
              "      background-color: #E8F0FE;\n",
              "      border: none;\n",
              "      border-radius: 50%;\n",
              "      cursor: pointer;\n",
              "      display: none;\n",
              "      fill: #1967D2;\n",
              "      height: 32px;\n",
              "      padding: 0 0 0 0;\n",
              "      width: 32px;\n",
              "    }\n",
              "\n",
              "    .colab-df-convert:hover {\n",
              "      background-color: #E2EBFA;\n",
              "      box-shadow: 0px 1px 2px rgba(60, 64, 67, 0.3), 0px 1px 3px 1px rgba(60, 64, 67, 0.15);\n",
              "      fill: #174EA6;\n",
              "    }\n",
              "\n",
              "    [theme=dark] .colab-df-convert {\n",
              "      background-color: #3B4455;\n",
              "      fill: #D2E3FC;\n",
              "    }\n",
              "\n",
              "    [theme=dark] .colab-df-convert:hover {\n",
              "      background-color: #434B5C;\n",
              "      box-shadow: 0px 1px 3px 1px rgba(0, 0, 0, 0.15);\n",
              "      filter: drop-shadow(0px 1px 2px rgba(0, 0, 0, 0.3));\n",
              "      fill: #FFFFFF;\n",
              "    }\n",
              "  </style>\n",
              "\n",
              "      <script>\n",
              "        const buttonEl =\n",
              "          document.querySelector('#df-422c9c08-cb24-4d41-a32b-a5ef7b9c40fd button.colab-df-convert');\n",
              "        buttonEl.style.display =\n",
              "          google.colab.kernel.accessAllowed ? 'block' : 'none';\n",
              "\n",
              "        async function convertToInteractive(key) {\n",
              "          const element = document.querySelector('#df-422c9c08-cb24-4d41-a32b-a5ef7b9c40fd');\n",
              "          const dataTable =\n",
              "            await google.colab.kernel.invokeFunction('convertToInteractive',\n",
              "                                                     [key], {});\n",
              "          if (!dataTable) return;\n",
              "\n",
              "          const docLinkHtml = 'Like what you see? Visit the ' +\n",
              "            '<a target=\"_blank\" href=https://colab.research.google.com/notebooks/data_table.ipynb>data table notebook</a>'\n",
              "            + ' to learn more about interactive tables.';\n",
              "          element.innerHTML = '';\n",
              "          dataTable['output_type'] = 'display_data';\n",
              "          await google.colab.output.renderOutput(dataTable, element);\n",
              "          const docLink = document.createElement('div');\n",
              "          docLink.innerHTML = docLinkHtml;\n",
              "          element.appendChild(docLink);\n",
              "        }\n",
              "      </script>\n",
              "    </div>\n",
              "  </div>\n",
              "  "
            ]
          },
          "metadata": {},
          "execution_count": 22
        }
      ],
      "source": [
        "new_df = feature_extraction(df_features, df_target)\n",
        "new_df.head()"
      ]
    },
    {
      "cell_type": "markdown",
      "id": "3703dfee",
      "metadata": {
        "id": "3703dfee"
      },
      "source": [
        "## Split Dataset"
      ]
    },
    {
      "cell_type": "code",
      "execution_count": 23,
      "id": "5c301e52",
      "metadata": {
        "id": "5c301e52",
        "colab": {
          "base_uri": "https://localhost:8080/"
        },
        "outputId": "6239475e-bf28-4aa7-af8d-b8b6facb9cc0"
      },
      "outputs": [
        {
          "output_type": "execute_result",
          "data": {
            "text/plain": [
              "(106, 1720)"
            ]
          },
          "metadata": {},
          "execution_count": 23
        }
      ],
      "source": [
        "X = new_df.iloc[:,:-1]\n",
        "y = new_df.iloc[:, -1:]\n",
        "\n",
        "X_train, X_test, y_train, y_test = train_test_split(X, y, test_size=0.2, random_state = 42)\n",
        "\n",
        "X_test.shape"
      ]
    },
    {
      "cell_type": "markdown",
      "id": "77fd904f",
      "metadata": {
        "id": "77fd904f"
      },
      "source": [
        "# Modelling"
      ]
    },
    {
      "cell_type": "markdown",
      "id": "9c07ead9",
      "metadata": {
        "id": "9c07ead9"
      },
      "source": [
        "### Random Forest Classifier"
      ]
    },
    {
      "cell_type": "code",
      "execution_count": 24,
      "id": "59ff0711",
      "metadata": {
        "id": "59ff0711"
      },
      "outputs": [],
      "source": [
        "rfc = RandomForestClassifier()\n",
        "rfc.fit(X_train, y_train) # fit model\n",
        "y_pred = rfc.predict(X_test) # predict class"
      ]
    },
    {
      "cell_type": "code",
      "execution_count": 25,
      "id": "acd0cd3f",
      "metadata": {
        "colab": {
          "base_uri": "https://localhost:8080/"
        },
        "id": "acd0cd3f",
        "outputId": "2fbf26c6-18c0-4d68-ad64-5f209a405353"
      },
      "outputs": [
        {
          "output_type": "stream",
          "name": "stdout",
          "text": [
            "Accuracy score: 96.23% \n",
            "\n",
            "\n",
            "              precision    recall  f1-score   support\n",
            "\n",
            "           0       0.94      1.00      0.97        64\n",
            "           1       1.00      0.90      0.95        42\n",
            "\n",
            "    accuracy                           0.96       106\n",
            "   macro avg       0.97      0.95      0.96       106\n",
            "weighted avg       0.96      0.96      0.96       106\n",
            "\n"
          ]
        }
      ],
      "source": [
        "# evaluate model\n",
        "\n",
        "print('Accuracy score: {:.2%}'.format(accuracy_score(y_test, y_pred)), '\\n\\n')\n",
        "print(classification_report(y_test, y_pred))"
      ]
    },
    {
      "cell_type": "code",
      "execution_count": 26,
      "id": "72670c73",
      "metadata": {
        "colab": {
          "base_uri": "https://localhost:8080/",
          "height": 297
        },
        "id": "72670c73",
        "outputId": "ce2044a7-9fff-4d1b-be54-c4c58f04a514"
      },
      "outputs": [
        {
          "output_type": "display_data",
          "data": {
            "text/plain": [
              "<Figure size 432x288 with 2 Axes>"
            ],
            "image/png": "[encoded data removed]"
          },
          "metadata": {
            "needs_background": "light"
          }
        }
      ],
      "source": [
        "conf_matrix = confusion_matrix(y_test, y_pred)\n",
        "conf_matrix_df = pd.DataFrame(confusion_matrix(y_test, y_pred), ('Non-spam', 'spam'),\n",
        "                              ('Non-spam', 'spam'))\n",
        "\n",
        "# Plot confusion matrix\n",
        "plt.figure()\n",
        "heatmap = sns.heatmap(conf_matrix_df, annot=True, annot_kws={'size': 14}, fmt='d', cmap='YlGnBu')\n",
        "heatmap.yaxis.set_ticklabels(heatmap.yaxis.get_ticklabels(), rotation=0, ha='right', fontsize=14)\n",
        "heatmap.xaxis.set_ticklabels(heatmap.xaxis.get_ticklabels(), rotation=0, ha='right', fontsize=14)\n",
        "\n",
        "plt.title('Confusion Matrix for\\nRandom Forest Classifier', fontsize=18, color='darkblue', pad = 20)\n",
        "plt.ylabel('True label', fontsize=14)\n",
        "plt.xlabel('Predicted label', fontsize=14)\n",
        "plt.tight_layout()\n",
        "plt.show()"
      ]
    },
    {
      "cell_type": "markdown",
      "id": "2b5fe78d",
      "metadata": {
        "id": "2b5fe78d"
      },
      "source": [
        "From confusion matrix obtained\n",
        "* True positif : `64`\n",
        "* True Negatif : `38`\n",
        "* False positif : `0`\n",
        "* False negatif : `4`"
      ]
    },
    {
      "cell_type": "markdown",
      "id": "598c0924",
      "metadata": {
        "id": "598c0924"
      },
      "source": [
        "---"
      ]
    },
    {
      "cell_type": "markdown",
      "id": "c36f2541",
      "metadata": {
        "id": "c36f2541"
      },
      "source": [
        "### Logistic Regression"
      ]
    },
    {
      "cell_type": "code",
      "execution_count": 27,
      "id": "f7a33f80",
      "metadata": {
        "id": "f7a33f80"
      },
      "outputs": [],
      "source": [
        "log = LogisticRegression().fit(X_train, y_train) # build and fit model\n",
        "\n",
        "y_pred = log.predict(X_test) # predict class"
      ]
    },
    {
      "cell_type": "code",
      "execution_count": 28,
      "id": "2a38cf73",
      "metadata": {
        "colab": {
          "base_uri": "https://localhost:8080/"
        },
        "id": "2a38cf73",
        "outputId": "1724098c-d4a0-42a3-e6af-2da5d593ee20"
      },
      "outputs": [
        {
          "output_type": "stream",
          "name": "stdout",
          "text": [
            "Accuracy score: 95.28% \n",
            "\n",
            "\n",
            "              precision    recall  f1-score   support\n",
            "\n",
            "           0       0.94      0.98      0.96        64\n",
            "           1       0.97      0.90      0.94        42\n",
            "\n",
            "    accuracy                           0.95       106\n",
            "   macro avg       0.96      0.94      0.95       106\n",
            "weighted avg       0.95      0.95      0.95       106\n",
            "\n"
          ]
        }
      ],
      "source": [
        "# evaluate model\n",
        "\n",
        "print('Accuracy score: {:.2%}'.format(accuracy_score(y_test, y_pred)), '\\n\\n')\n",
        "print(classification_report(y_test, y_pred))"
      ]
    },
    {
      "cell_type": "code",
      "execution_count": 29,
      "id": "271c2904",
      "metadata": {
        "scrolled": true,
        "colab": {
          "base_uri": "https://localhost:8080/",
          "height": 297
        },
        "id": "271c2904",
        "outputId": "dfab43f0-003d-4b4f-ab61-0aa164ad7991"
      },
      "outputs": [
        {
          "output_type": "display_data",
          "data": {
            "text/plain": [
              "<Figure size 432x288 with 2 Axes>"
            ],
            "image/png": "[encoded data removed]"
          },
          "metadata": {
            "needs_background": "light"
          }
        }
      ],
      "source": [
        "conf_matrix = confusion_matrix(y_test, y_pred)\n",
        "conf_matrix_df = pd.DataFrame(confusion_matrix(y_test, y_pred), ('Non-spam', 'spam'),\n",
        "                              ('Non-spam', 'spam'))\n",
        "\n",
        "# Plot confusion matrix\n",
        "plt.figure()\n",
        "heatmap = sns.heatmap(conf_matrix_df, annot=True, annot_kws={'size': 14}, fmt='d', cmap='YlGnBu')\n",
        "heatmap.yaxis.set_ticklabels(heatmap.yaxis.get_ticklabels(), rotation=0, ha='right', fontsize=14)\n",
        "heatmap.xaxis.set_ticklabels(heatmap.xaxis.get_ticklabels(), rotation=0, ha='right', fontsize=14)\n",
        "\n",
        "plt.title('Confusion Matrix for\\nLogistic Regression', fontsize=18, color='darkblue', pad = 20)\n",
        "plt.ylabel('True label', fontsize=14)\n",
        "plt.xlabel('Predicted label', fontsize=14)\n",
        "plt.tight_layout()\n",
        "plt.show()"
      ]
    },
    {
      "cell_type": "markdown",
      "id": "2d1c5c6b",
      "metadata": {
        "id": "2d1c5c6b"
      },
      "source": [
        "From confusion matrix obtained\n",
        "* True positif : `63`\n",
        "* True Negatif : `38`\n",
        "* False positif : `1`\n",
        "* False negatif : `4`"
      ]
    },
    {
      "cell_type": "markdown",
      "source": [
        "# Save model"
      ],
      "metadata": {
        "id": "RoWgZQpArzaD"
      },
      "id": "RoWgZQpArzaD"
    },
    {
      "cell_type": "code",
      "source": [
        "# Random Forest Classifier\n",
        "pickle.dump(rfc, open('/content/drive/MyDrive/SIB/Natural Language Processing/Email Classification/random_forest.pkl', 'wb'))\n",
        "\n",
        "# Logistic Regression\n",
        "pickle.dump(log, open('/content/drive/MyDrive/SIB/Natural Language Processing/Email Classification/logistic_regression.pkl', 'wb'))"
      ],
      "metadata": {
        "id": "NvOfNtFlrr00"
      },
      "id": "NvOfNtFlrr00",
      "execution_count": 30,
      "outputs": []
    },
    {
      "cell_type": "markdown",
      "id": "a93dd34a",
      "metadata": {
        "id": "a93dd34a"
      },
      "source": [
        "# Summary\n",
        "\n",
        "* `Accuracy score` for Random Forest Algorithm is `96.23% `\n",
        "* `Accuracy score` for Logistic Regression Algorithm is `95.28%`\n",
        "* Random forest and logistic regression both have good accuracy for classifying labels. However, in this case, random forest has a slightly higher accuracy rate than logistic regression."
      ]
    }
  ],
  "metadata": {
    "kernelspec": {
      "display_name": "Python 3 (ipykernel)",
      "language": "python",
      "name": "python3"
    },
    "language_info": {
      "codemirror_mode": {
        "name": "ipython",
        "version": 3
      },
      "file_extension": ".py",
      "mimetype": "text/x-python",
      "name": "python",
      "nbconvert_exporter": "python",
      "pygments_lexer": "ipython3",
      "version": "3.10.2"
    },
    "colab": {
      "name": "Andrean Yonathan_Universitas Diponegoro - Tugas 1 NLP.ipynb",
      "provenance": [],
      "collapsed_sections": []
    }
  },
  "nbformat": 4,
  "nbformat_minor": 5
}
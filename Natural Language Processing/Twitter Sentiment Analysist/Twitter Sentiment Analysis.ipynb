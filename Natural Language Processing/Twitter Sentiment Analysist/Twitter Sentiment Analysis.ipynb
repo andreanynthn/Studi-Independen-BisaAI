{
  "cells": [
    {
      "cell_type": "markdown",
      "metadata": {
        "id": "6cf467ed"
      },
      "source": [
        "<div style='background-color:#1155CC'>\n",
        "<br>\n",
        "<p style='text-align:center; font-size:200%; color:white; font-weight:bold'>Twitter Sentiment Analysis</p><br>\n",
        "<p style='text-align:center; font-size:150%; color:white; font-weight:500'>Andrean Yonathan - Universitas Diponegoro</p>\n",
        "<br>\n",
        "</div>"
      ],
      "id": "6cf467ed"
    },
    {
      "cell_type": "markdown",
      "metadata": {
        "id": "GbiU0Zk63N6T"
      },
      "source": [
        "# Import Library"
      ],
      "id": "GbiU0Zk63N6T"
    },
    {
      "cell_type": "code",
      "execution_count": null,
      "metadata": {
        "colab": {
          "base_uri": "https://localhost:8080/"
        },
        "id": "7d2196fc",
        "outputId": "e02c4895-7bff-4c34-dc49-b0d82b47f857"
      },
      "outputs": [
        {
          "output_type": "stream",
          "name": "stdout",
          "text": [
            "[nltk_data] Downloading package stopwords to /root/nltk_data...\n",
            "[nltk_data]   Unzipping corpora/stopwords.zip.\n",
            "Collecting emot\n",
            "  Downloading emot-3.1-py3-none-any.whl (61 kB)\n",
            "\u001b[K     |████████████████████████████████| 61 kB 20 kB/s \n",
            "\u001b[?25hInstalling collected packages: emot\n",
            "Successfully installed emot-3.1\n",
            "Mounted at /content/drive\n"
          ]
        }
      ],
      "source": [
        "import pandas as pd\n",
        "import numpy as np\n",
        "import keras\n",
        "\n",
        "# library for visualization\n",
        "import matplotlib.pyplot as plt\n",
        "import seaborn as sns\n",
        "\n",
        "# library for text pre-processing\n",
        "import regex as re\n",
        "import nltk\n",
        "nltk.download('stopwords')\n",
        "from sklearn.preprocessing import LabelEncoder\n",
        "from nltk.corpus import stopwords\n",
        "from nltk.stem import *\n",
        "!pip install emot\n",
        "from emot.emo_unicode import UNICODE_EMOJI, EMOTICONS_EMO\n",
        "\n",
        "# library for features extraction\n",
        "from keras.preprocessing.text import Tokenizer\n",
        "from keras.preprocessing.sequence import pad_sequences\n",
        "\n",
        "# library for build and evaluate model\n",
        "from sklearn.model_selection import train_test_split\n",
        "from sklearn.metrics import accuracy_score, classification_report\n",
        "from sklearn.metrics import confusion_matrix\n",
        "from keras.preprocessing.text import Tokenizer\n",
        "from keras.models import Model, Sequential\n",
        "from keras.layers import LSTM, Activation, Dense, Input, Embedding\n",
        "\n",
        "# library for save model\n",
        "import pickle\n",
        "\n",
        "# mount drive\n",
        "from google.colab import drive\n",
        "drive.mount('/content/drive')\n",
        "\n",
        "import warnings\n",
        "warnings.filterwarnings('ignore')"
      ],
      "id": "7d2196fc"
    },
    {
      "cell_type": "markdown",
      "metadata": {
        "id": "3M-5YEWKX70v"
      },
      "source": [
        "# Load Dataset\n",
        "\n",
        "The data obtained from Kaggle open dataset (https://www.kaggle.com/datasets/crowdflower/twitter-airline-sentiment)"
      ],
      "id": "3M-5YEWKX70v"
    },
    {
      "cell_type": "code",
      "execution_count": null,
      "metadata": {
        "colab": {
          "base_uri": "https://localhost:8080/",
          "height": 496
        },
        "id": "Fk-MdtfdXMCO",
        "outputId": "6e2116c4-0837-45c4-8995-c82790cf2209"
      },
      "outputs": [
        {
          "output_type": "execute_result",
          "data": {
            "text/plain": [
              "             tweet_id airline_sentiment  airline_sentiment_confidence  \\\n",
              "0  570306133677760513           neutral                        1.0000   \n",
              "1  570301130888122368          positive                        0.3486   \n",
              "2  570301083672813571           neutral                        0.6837   \n",
              "3  570301031407624196          negative                        1.0000   \n",
              "4  570300817074462722          negative                        1.0000   \n",
              "\n",
              "  negativereason  negativereason_confidence         airline  \\\n",
              "0            NaN                        NaN  Virgin America   \n",
              "1            NaN                     0.0000  Virgin America   \n",
              "2            NaN                        NaN  Virgin America   \n",
              "3     Bad Flight                     0.7033  Virgin America   \n",
              "4     Can't Tell                     1.0000  Virgin America   \n",
              "\n",
              "  airline_sentiment_gold        name negativereason_gold  retweet_count  \\\n",
              "0                    NaN     cairdin                 NaN              0   \n",
              "1                    NaN    jnardino                 NaN              0   \n",
              "2                    NaN  yvonnalynn                 NaN              0   \n",
              "3                    NaN    jnardino                 NaN              0   \n",
              "4                    NaN    jnardino                 NaN              0   \n",
              "\n",
              "                                                text tweet_coord  \\\n",
              "0                @VirginAmerica What @dhepburn said.         NaN   \n",
              "1  @VirginAmerica plus you've added commercials t...         NaN   \n",
              "2  @VirginAmerica I didn't today... Must mean I n...         NaN   \n",
              "3  @VirginAmerica it's really aggressive to blast...         NaN   \n",
              "4  @VirginAmerica and it's a really big bad thing...         NaN   \n",
              "\n",
              "               tweet_created tweet_location               user_timezone  \n",
              "0  2015-02-24 11:35:52 -0800            NaN  Eastern Time (US & Canada)  \n",
              "1  2015-02-24 11:15:59 -0800            NaN  Pacific Time (US & Canada)  \n",
              "2  2015-02-24 11:15:48 -0800      Lets Play  Central Time (US & Canada)  \n",
              "3  2015-02-24 11:15:36 -0800            NaN  Pacific Time (US & Canada)  \n",
              "4  2015-02-24 11:14:45 -0800            NaN  Pacific Time (US & Canada)  "
            ],
            "text/html": [
              "\n",
              "  <div id=\"df-316b5ed2-d081-477b-8759-1f27e0761980\">\n",
              "    <div class=\"colab-df-container\">\n",
              "      <div>\n",
              "<style scoped>\n",
              "    .dataframe tbody tr th:only-of-type {\n",
              "        vertical-align: middle;\n",
              "    }\n",
              "\n",
              "    .dataframe tbody tr th {\n",
              "        vertical-align: top;\n",
              "    }\n",
              "\n",
              "    .dataframe thead th {\n",
              "        text-align: right;\n",
              "    }\n",
              "</style>\n",
              "<table border=\"1\" class=\"dataframe\">\n",
              "  <thead>\n",
              "    <tr style=\"text-align: right;\">\n",
              "      <th></th>\n",
              "      <th>tweet_id</th>\n",
              "      <th>airline_sentiment</th>\n",
              "      <th>airline_sentiment_confidence</th>\n",
              "      <th>negativereason</th>\n",
              "      <th>negativereason_confidence</th>\n",
              "      <th>airline</th>\n",
              "      <th>airline_sentiment_gold</th>\n",
              "      <th>name</th>\n",
              "      <th>negativereason_gold</th>\n",
              "      <th>retweet_count</th>\n",
              "      <th>text</th>\n",
              "      <th>tweet_coord</th>\n",
              "      <th>tweet_created</th>\n",
              "      <th>tweet_location</th>\n",
              "      <th>user_timezone</th>\n",
              "    </tr>\n",
              "  </thead>\n",
              "  <tbody>\n",
              "    <tr>\n",
              "      <th>0</th>\n",
              "      <td>570306133677760513</td>\n",
              "      <td>neutral</td>\n",
              "      <td>1.0000</td>\n",
              "      <td>NaN</td>\n",
              "      <td>NaN</td>\n",
              "      <td>Virgin America</td>\n",
              "      <td>NaN</td>\n",
              "      <td>cairdin</td>\n",
              "      <td>NaN</td>\n",
              "      <td>0</td>\n",
              "      <td>@VirginAmerica What @dhepburn said.</td>\n",
              "      <td>NaN</td>\n",
              "      <td>2015-02-24 11:35:52 -0800</td>\n",
              "      <td>NaN</td>\n",
              "      <td>Eastern Time (US &amp; Canada)</td>\n",
              "    </tr>\n",
              "    <tr>\n",
              "      <th>1</th>\n",
              "      <td>570301130888122368</td>\n",
              "      <td>positive</td>\n",
              "      <td>0.3486</td>\n",
              "      <td>NaN</td>\n",
              "      <td>0.0000</td>\n",
              "      <td>Virgin America</td>\n",
              "      <td>NaN</td>\n",
              "      <td>jnardino</td>\n",
              "      <td>NaN</td>\n",
              "      <td>0</td>\n",
              "      <td>@VirginAmerica plus you've added commercials t...</td>\n",
              "      <td>NaN</td>\n",
              "      <td>2015-02-24 11:15:59 -0800</td>\n",
              "      <td>NaN</td>\n",
              "      <td>Pacific Time (US &amp; Canada)</td>\n",
              "    </tr>\n",
              "    <tr>\n",
              "      <th>2</th>\n",
              "      <td>570301083672813571</td>\n",
              "      <td>neutral</td>\n",
              "      <td>0.6837</td>\n",
              "      <td>NaN</td>\n",
              "      <td>NaN</td>\n",
              "      <td>Virgin America</td>\n",
              "      <td>NaN</td>\n",
              "      <td>yvonnalynn</td>\n",
              "      <td>NaN</td>\n",
              "      <td>0</td>\n",
              "      <td>@VirginAmerica I didn't today... Must mean I n...</td>\n",
              "      <td>NaN</td>\n",
              "      <td>2015-02-24 11:15:48 -0800</td>\n",
              "      <td>Lets Play</td>\n",
              "      <td>Central Time (US &amp; Canada)</td>\n",
              "    </tr>\n",
              "    <tr>\n",
              "      <th>3</th>\n",
              "      <td>570301031407624196</td>\n",
              "      <td>negative</td>\n",
              "      <td>1.0000</td>\n",
              "      <td>Bad Flight</td>\n",
              "      <td>0.7033</td>\n",
              "      <td>Virgin America</td>\n",
              "      <td>NaN</td>\n",
              "      <td>jnardino</td>\n",
              "      <td>NaN</td>\n",
              "      <td>0</td>\n",
              "      <td>@VirginAmerica it's really aggressive to blast...</td>\n",
              "      <td>NaN</td>\n",
              "      <td>2015-02-24 11:15:36 -0800</td>\n",
              "      <td>NaN</td>\n",
              "      <td>Pacific Time (US &amp; Canada)</td>\n",
              "    </tr>\n",
              "    <tr>\n",
              "      <th>4</th>\n",
              "      <td>570300817074462722</td>\n",
              "      <td>negative</td>\n",
              "      <td>1.0000</td>\n",
              "      <td>Can't Tell</td>\n",
              "      <td>1.0000</td>\n",
              "      <td>Virgin America</td>\n",
              "      <td>NaN</td>\n",
              "      <td>jnardino</td>\n",
              "      <td>NaN</td>\n",
              "      <td>0</td>\n",
              "      <td>@VirginAmerica and it's a really big bad thing...</td>\n",
              "      <td>NaN</td>\n",
              "      <td>2015-02-24 11:14:45 -0800</td>\n",
              "      <td>NaN</td>\n",
              "      <td>Pacific Time (US &amp; Canada)</td>\n",
              "    </tr>\n",
              "  </tbody>\n",
              "</table>\n",
              "</div>\n",
              "      <button class=\"colab-df-convert\" onclick=\"convertToInteractive('df-316b5ed2-d081-477b-8759-1f27e0761980')\"\n",
              "              title=\"Convert this dataframe to an interactive table.\"\n",
              "              style=\"display:none;\">\n",
              "        \n",
              "  <svg xmlns=\"http://www.w3.org/2000/svg\" height=\"24px\"viewBox=\"0 0 24 24\"\n",
              "       width=\"24px\">\n",
              "    <path d=\"M0 0h24v24H0V0z\" fill=\"none\"/>\n",
              "    <path d=\"M18.56 5.44l.94 2.06.94-2.06 2.06-.94-2.06-.94-.94-2.06-.94 2.06-2.06.94zm-11 1L8.5 8.5l.94-2.06 2.06-.94-2.06-.94L8.5 2.5l-.94 2.06-2.06.94zm10 10l.94 2.06.94-2.06 2.06-.94-2.06-.94-.94-2.06-.94 2.06-2.06.94z\"/><path d=\"M17.41 7.96l-1.37-1.37c-.4-.4-.92-.59-1.43-.59-.52 0-1.04.2-1.43.59L10.3 9.45l-7.72 7.72c-.78.78-.78 2.05 0 2.83L4 21.41c.39.39.9.59 1.41.59.51 0 1.02-.2 1.41-.59l7.78-7.78 2.81-2.81c.8-.78.8-2.07 0-2.86zM5.41 20L4 18.59l7.72-7.72 1.47 1.35L5.41 20z\"/>\n",
              "  </svg>\n",
              "      </button>\n",
              "      \n",
              "  <style>\n",
              "    .colab-df-container {\n",
              "      display:flex;\n",
              "      flex-wrap:wrap;\n",
              "      gap: 12px;\n",
              "    }\n",
              "\n",
              "    .colab-df-convert {\n",
              "      background-color: #E8F0FE;\n",
              "      border: none;\n",
              "      border-radius: 50%;\n",
              "      cursor: pointer;\n",
              "      display: none;\n",
              "      fill: #1967D2;\n",
              "      height: 32px;\n",
              "      padding: 0 0 0 0;\n",
              "      width: 32px;\n",
              "    }\n",
              "\n",
              "    .colab-df-convert:hover {\n",
              "      background-color: #E2EBFA;\n",
              "      box-shadow: 0px 1px 2px rgba(60, 64, 67, 0.3), 0px 1px 3px 1px rgba(60, 64, 67, 0.15);\n",
              "      fill: #174EA6;\n",
              "    }\n",
              "\n",
              "    [theme=dark] .colab-df-convert {\n",
              "      background-color: #3B4455;\n",
              "      fill: #D2E3FC;\n",
              "    }\n",
              "\n",
              "    [theme=dark] .colab-df-convert:hover {\n",
              "      background-color: #434B5C;\n",
              "      box-shadow: 0px 1px 3px 1px rgba(0, 0, 0, 0.15);\n",
              "      filter: drop-shadow(0px 1px 2px rgba(0, 0, 0, 0.3));\n",
              "      fill: #FFFFFF;\n",
              "    }\n",
              "  </style>\n",
              "\n",
              "      <script>\n",
              "        const buttonEl =\n",
              "          document.querySelector('#df-316b5ed2-d081-477b-8759-1f27e0761980 button.colab-df-convert');\n",
              "        buttonEl.style.display =\n",
              "          google.colab.kernel.accessAllowed ? 'block' : 'none';\n",
              "\n",
              "        async function convertToInteractive(key) {\n",
              "          const element = document.querySelector('#df-316b5ed2-d081-477b-8759-1f27e0761980');\n",
              "          const dataTable =\n",
              "            await google.colab.kernel.invokeFunction('convertToInteractive',\n",
              "                                                     [key], {});\n",
              "          if (!dataTable) return;\n",
              "\n",
              "          const docLinkHtml = 'Like what you see? Visit the ' +\n",
              "            '<a target=\"_blank\" href=https://colab.research.google.com/notebooks/data_table.ipynb>data table notebook</a>'\n",
              "            + ' to learn more about interactive tables.';\n",
              "          element.innerHTML = '';\n",
              "          dataTable['output_type'] = 'display_data';\n",
              "          await google.colab.output.renderOutput(dataTable, element);\n",
              "          const docLink = document.createElement('div');\n",
              "          docLink.innerHTML = docLinkHtml;\n",
              "          element.appendChild(docLink);\n",
              "        }\n",
              "      </script>\n",
              "    </div>\n",
              "  </div>\n",
              "  "
            ]
          },
          "metadata": {},
          "execution_count": 2
        }
      ],
      "source": [
        "df = pd.read_csv('/content/drive/MyDrive/SIB/Natural Language Processing/Deep Learning/Twitter Sentiment Analysist/Tweets.csv')\n",
        "df.head()"
      ],
      "id": "Fk-MdtfdXMCO"
    },
    {
      "cell_type": "markdown",
      "metadata": {
        "id": "RKg8VX9pZJRr"
      },
      "source": [
        "# Data Understanding"
      ],
      "id": "RKg8VX9pZJRr"
    },
    {
      "cell_type": "markdown",
      "metadata": {
        "id": "n478QIFcaGy3"
      },
      "source": [
        "## check imbalance dataset"
      ],
      "id": "n478QIFcaGy3"
    },
    {
      "cell_type": "code",
      "execution_count": null,
      "metadata": {
        "colab": {
          "base_uri": "https://localhost:8080/",
          "height": 438
        },
        "id": "xksRbcACXL-T",
        "outputId": "3a8583b8-8096-4414-fba3-f012e8745f2a"
      },
      "outputs": [
        {
          "output_type": "display_data",
          "data": {
            "text/plain": [
              "<Figure size 576x360 with 1 Axes>"
            ],
            "image/png": "[encoded data removed]"
          },
          "metadata": {
            "needs_background": "light"
          }
        },
        {
          "output_type": "stream",
          "name": "stdout",
          "text": [
            "\n",
            "\n",
            "Number of neutral label: 3099\n",
            "Number of positive label: 2363\n",
            "Number of negative label: 9178\n"
          ]
        }
      ],
      "source": [
        "plt.figure(figsize = (8,5))\n",
        "sns.countplot(data = df, x = 'airline_sentiment')\n",
        "plt.title('Value Count of Labels')\n",
        "plt.show()\n",
        "\n",
        "print('\\n')\n",
        "print('Number of neutral label:', len(df[df['airline_sentiment'] == 'neutral']))\n",
        "print('Number of positive label:', len(df[df['airline_sentiment'] == 'positive']))\n",
        "print('Number of negative label:', len(df[df['airline_sentiment'] == 'negative']))"
      ],
      "id": "xksRbcACXL-T"
    },
    {
      "cell_type": "markdown",
      "metadata": {
        "id": "VHVQe6lEaMpG"
      },
      "source": [
        "## check missing values"
      ],
      "id": "VHVQe6lEaMpG"
    },
    {
      "cell_type": "code",
      "execution_count": null,
      "metadata": {
        "colab": {
          "base_uri": "https://localhost:8080/"
        },
        "id": "6YPTGK6gXL7p",
        "outputId": "e949d5c6-aa90-40ed-a7c8-70f9d6c4366f"
      },
      "outputs": [
        {
          "output_type": "execute_result",
          "data": {
            "text/plain": [
              "tweet_id                            0\n",
              "airline_sentiment                   0\n",
              "airline_sentiment_confidence        0\n",
              "negativereason                   5462\n",
              "negativereason_confidence        4118\n",
              "airline                             0\n",
              "airline_sentiment_gold          14600\n",
              "name                                0\n",
              "negativereason_gold             14608\n",
              "retweet_count                       0\n",
              "text                                0\n",
              "tweet_coord                     13621\n",
              "tweet_created                       0\n",
              "tweet_location                   4733\n",
              "user_timezone                    4820\n",
              "dtype: int64"
            ]
          },
          "metadata": {},
          "execution_count": 4
        }
      ],
      "source": [
        "df.isna().sum()"
      ],
      "id": "6YPTGK6gXL7p"
    },
    {
      "cell_type": "markdown",
      "metadata": {
        "id": "t-zQUmTsdH6e"
      },
      "source": [
        "# Data Understanding Report\n",
        "\n",
        "* Data is imbalance because the ratio of the number of negative labels is very far from the positive and neutral labels\n",
        "* Data has missing values but in this case, we only use `airline_sentiment` and `text` columns. So, we will create new dataframe that contains `airline_sentiment` and `text` columns."
      ],
      "id": "t-zQUmTsdH6e"
    },
    {
      "cell_type": "markdown",
      "metadata": {
        "id": "xNJaP1L2gJvG"
      },
      "source": [
        "# Text Pre-processing\n",
        "\n",
        "What will be done in this process is:\n",
        "1. Drop unnecesarry column(s).\n",
        "2. Lower casing.\n",
        "3. Label encoding for target feature.\n",
        "4. Token masking.\n",
        "5. Text cleaning, such as remove unnecessary character, remove punctuation, etc.\n",
        "6. Text normalization.\n",
        "7. Stopwords removal."
      ],
      "id": "xNJaP1L2gJvG"
    },
    {
      "cell_type": "markdown",
      "metadata": {
        "id": "Yd6Sv17MhOlp"
      },
      "source": [
        "## Drop unnecessarry columns"
      ],
      "id": "Yd6Sv17MhOlp"
    },
    {
      "cell_type": "code",
      "execution_count": null,
      "metadata": {
        "colab": {
          "base_uri": "https://localhost:8080/",
          "height": 206
        },
        "id": "Ej3If8wRhPH8",
        "outputId": "cbd89723-11b0-477c-818b-59986af0a545"
      },
      "outputs": [
        {
          "output_type": "execute_result",
          "data": {
            "text/plain": [
              "                                                text     label\n",
              "0                @VirginAmerica What @dhepburn said.   neutral\n",
              "1  @VirginAmerica plus you've added commercials t...  positive\n",
              "2  @VirginAmerica I didn't today... Must mean I n...   neutral\n",
              "3  @VirginAmerica it's really aggressive to blast...  negative\n",
              "4  @VirginAmerica and it's a really big bad thing...  negative"
            ],
            "text/html": [
              "\n",
              "  <div id=\"df-876611c6-355e-4ca0-8dda-e8f64609d00c\">\n",
              "    <div class=\"colab-df-container\">\n",
              "      <div>\n",
              "<style scoped>\n",
              "    .dataframe tbody tr th:only-of-type {\n",
              "        vertical-align: middle;\n",
              "    }\n",
              "\n",
              "    .dataframe tbody tr th {\n",
              "        vertical-align: top;\n",
              "    }\n",
              "\n",
              "    .dataframe thead th {\n",
              "        text-align: right;\n",
              "    }\n",
              "</style>\n",
              "<table border=\"1\" class=\"dataframe\">\n",
              "  <thead>\n",
              "    <tr style=\"text-align: right;\">\n",
              "      <th></th>\n",
              "      <th>text</th>\n",
              "      <th>label</th>\n",
              "    </tr>\n",
              "  </thead>\n",
              "  <tbody>\n",
              "    <tr>\n",
              "      <th>0</th>\n",
              "      <td>@VirginAmerica What @dhepburn said.</td>\n",
              "      <td>neutral</td>\n",
              "    </tr>\n",
              "    <tr>\n",
              "      <th>1</th>\n",
              "      <td>@VirginAmerica plus you've added commercials t...</td>\n",
              "      <td>positive</td>\n",
              "    </tr>\n",
              "    <tr>\n",
              "      <th>2</th>\n",
              "      <td>@VirginAmerica I didn't today... Must mean I n...</td>\n",
              "      <td>neutral</td>\n",
              "    </tr>\n",
              "    <tr>\n",
              "      <th>3</th>\n",
              "      <td>@VirginAmerica it's really aggressive to blast...</td>\n",
              "      <td>negative</td>\n",
              "    </tr>\n",
              "    <tr>\n",
              "      <th>4</th>\n",
              "      <td>@VirginAmerica and it's a really big bad thing...</td>\n",
              "      <td>negative</td>\n",
              "    </tr>\n",
              "  </tbody>\n",
              "</table>\n",
              "</div>\n",
              "      <button class=\"colab-df-convert\" onclick=\"convertToInteractive('df-876611c6-355e-4ca0-8dda-e8f64609d00c')\"\n",
              "              title=\"Convert this dataframe to an interactive table.\"\n",
              "              style=\"display:none;\">\n",
              "        \n",
              "  <svg xmlns=\"http://www.w3.org/2000/svg\" height=\"24px\"viewBox=\"0 0 24 24\"\n",
              "       width=\"24px\">\n",
              "    <path d=\"M0 0h24v24H0V0z\" fill=\"none\"/>\n",
              "    <path d=\"M18.56 5.44l.94 2.06.94-2.06 2.06-.94-2.06-.94-.94-2.06-.94 2.06-2.06.94zm-11 1L8.5 8.5l.94-2.06 2.06-.94-2.06-.94L8.5 2.5l-.94 2.06-2.06.94zm10 10l.94 2.06.94-2.06 2.06-.94-2.06-.94-.94-2.06-.94 2.06-2.06.94z\"/><path d=\"M17.41 7.96l-1.37-1.37c-.4-.4-.92-.59-1.43-.59-.52 0-1.04.2-1.43.59L10.3 9.45l-7.72 7.72c-.78.78-.78 2.05 0 2.83L4 21.41c.39.39.9.59 1.41.59.51 0 1.02-.2 1.41-.59l7.78-7.78 2.81-2.81c.8-.78.8-2.07 0-2.86zM5.41 20L4 18.59l7.72-7.72 1.47 1.35L5.41 20z\"/>\n",
              "  </svg>\n",
              "      </button>\n",
              "      \n",
              "  <style>\n",
              "    .colab-df-container {\n",
              "      display:flex;\n",
              "      flex-wrap:wrap;\n",
              "      gap: 12px;\n",
              "    }\n",
              "\n",
              "    .colab-df-convert {\n",
              "      background-color: #E8F0FE;\n",
              "      border: none;\n",
              "      border-radius: 50%;\n",
              "      cursor: pointer;\n",
              "      display: none;\n",
              "      fill: #1967D2;\n",
              "      height: 32px;\n",
              "      padding: 0 0 0 0;\n",
              "      width: 32px;\n",
              "    }\n",
              "\n",
              "    .colab-df-convert:hover {\n",
              "      background-color: #E2EBFA;\n",
              "      box-shadow: 0px 1px 2px rgba(60, 64, 67, 0.3), 0px 1px 3px 1px rgba(60, 64, 67, 0.15);\n",
              "      fill: #174EA6;\n",
              "    }\n",
              "\n",
              "    [theme=dark] .colab-df-convert {\n",
              "      background-color: #3B4455;\n",
              "      fill: #D2E3FC;\n",
              "    }\n",
              "\n",
              "    [theme=dark] .colab-df-convert:hover {\n",
              "      background-color: #434B5C;\n",
              "      box-shadow: 0px 1px 3px 1px rgba(0, 0, 0, 0.15);\n",
              "      filter: drop-shadow(0px 1px 2px rgba(0, 0, 0, 0.3));\n",
              "      fill: #FFFFFF;\n",
              "    }\n",
              "  </style>\n",
              "\n",
              "      <script>\n",
              "        const buttonEl =\n",
              "          document.querySelector('#df-876611c6-355e-4ca0-8dda-e8f64609d00c button.colab-df-convert');\n",
              "        buttonEl.style.display =\n",
              "          google.colab.kernel.accessAllowed ? 'block' : 'none';\n",
              "\n",
              "        async function convertToInteractive(key) {\n",
              "          const element = document.querySelector('#df-876611c6-355e-4ca0-8dda-e8f64609d00c');\n",
              "          const dataTable =\n",
              "            await google.colab.kernel.invokeFunction('convertToInteractive',\n",
              "                                                     [key], {});\n",
              "          if (!dataTable) return;\n",
              "\n",
              "          const docLinkHtml = 'Like what you see? Visit the ' +\n",
              "            '<a target=\"_blank\" href=https://colab.research.google.com/notebooks/data_table.ipynb>data table notebook</a>'\n",
              "            + ' to learn more about interactive tables.';\n",
              "          element.innerHTML = '';\n",
              "          dataTable['output_type'] = 'display_data';\n",
              "          await google.colab.output.renderOutput(dataTable, element);\n",
              "          const docLink = document.createElement('div');\n",
              "          docLink.innerHTML = docLinkHtml;\n",
              "          element.appendChild(docLink);\n",
              "        }\n",
              "      </script>\n",
              "    </div>\n",
              "  </div>\n",
              "  "
            ]
          },
          "metadata": {},
          "execution_count": 5
        }
      ],
      "source": [
        "df = df[['text', 'airline_sentiment']]\n",
        "df.rename(columns = {'airline_sentiment' : 'label'}, inplace = True)\n",
        "df.head()"
      ],
      "id": "Ej3If8wRhPH8"
    },
    {
      "cell_type": "markdown",
      "metadata": {
        "id": "y2JRARopyNm3"
      },
      "source": [
        "# Text Processing"
      ],
      "id": "y2JRARopyNm3"
    },
    {
      "cell_type": "markdown",
      "metadata": {
        "id": "i_jNGneyylvD"
      },
      "source": [
        "## Lower Case"
      ],
      "id": "i_jNGneyylvD"
    },
    {
      "cell_type": "code",
      "execution_count": null,
      "metadata": {
        "id": "OHpIMHs_yYWJ"
      },
      "outputs": [],
      "source": [
        "lower = []\n",
        "for i in df['text']:\n",
        "    i = i.lower()\n",
        "    lower.append(i)\n",
        "df['text'] = lower"
      ],
      "id": "OHpIMHs_yYWJ"
    },
    {
      "cell_type": "markdown",
      "metadata": {
        "id": "G9KcFoRgzFli"
      },
      "source": [
        "## Label Encoding"
      ],
      "id": "G9KcFoRgzFli"
    },
    {
      "cell_type": "code",
      "execution_count": null,
      "metadata": {
        "colab": {
          "base_uri": "https://localhost:8080/"
        },
        "id": "IZK7KG1XXLwk",
        "outputId": "99ae3f18-1ab3-41f9-8af9-0a3aabc1f48c"
      },
      "outputs": [
        {
          "output_type": "stream",
          "name": "stdout",
          "text": [
            "{'negative': 0, 'neutral': 1, 'positive': 2}\n"
          ]
        }
      ],
      "source": [
        "def labelEncoding(label):\n",
        "    le = LabelEncoder()\n",
        "    le.fit(label)\n",
        "    label = le.transform(label)\n",
        "    label_name = dict(zip(le.classes_, le.transform(le.classes_)))\n",
        "    print(label_name)\n",
        "    return label\n",
        "\n",
        "df['label'] = labelEncoding(df['label'])"
      ],
      "id": "IZK7KG1XXLwk"
    },
    {
      "cell_type": "markdown",
      "metadata": {
        "id": "ylTLLKndzrz0"
      },
      "source": [
        "## Emoji and Emoticon Normalization"
      ],
      "id": "ylTLLKndzrz0"
    },
    {
      "cell_type": "code",
      "execution_count": null,
      "metadata": {
        "id": "ptYFaaimXLn5"
      },
      "outputs": [],
      "source": [
        "def convert_emojis(text):\n",
        "    for emot in UNICODE_EMOJI:\n",
        "        text = text.replace(emot, '_'.join(UNICODE_EMOJI[emot].replace(',','').replace(':','').split()))\n",
        "    return text\n",
        "\n",
        "def convert_emoticons(text):\n",
        "    for emot in EMOTICONS_EMO:\n",
        "        text = text.replace(emot, '_'.join(EMOTICONS_EMO[emot].replace(\",\",\"\").split()))\n",
        "    return text"
      ],
      "id": "ptYFaaimXLn5"
    },
    {
      "cell_type": "markdown",
      "metadata": {
        "id": "086PmIBJ7pLd"
      },
      "source": [
        "## Text Normalization"
      ],
      "id": "086PmIBJ7pLd"
    },
    {
      "cell_type": "code",
      "execution_count": null,
      "metadata": {
        "id": "zWpBP2ZG7pBW"
      },
      "outputs": [],
      "source": [
        "cons = pd.read_csv('/content/drive/MyDrive/SIB/Natural Language Processing/Deep Learning/Twitter Sentiment Analysist/contraction.csv')\n",
        "cons_dict = dict(zip(cons['constrain'], cons['meaning']))\n",
        "\n",
        "def text_norm(tx):\n",
        "    tx = tx.replace(';','')\n",
        "    for i in tx.split():\n",
        "        if i in cons_dict.keys():\n",
        "            tx = tx.replace(i, cons_dict[i])\n",
        "    return tx"
      ],
      "id": "zWpBP2ZG7pBW"
    },
    {
      "cell_type": "markdown",
      "metadata": {
        "id": "NX2_lTgn8j2h"
      },
      "source": [
        "## Token Masking"
      ],
      "id": "NX2_lTgn8j2h"
    },
    {
      "cell_type": "code",
      "execution_count": null,
      "metadata": {
        "id": "HR2d3AqNXLjA"
      },
      "outputs": [],
      "source": [
        "def token_masking(tx):\n",
        "     tx = re.sub(r'(?:\\@)\\S+', 'username', tx) # masking @ to username\n",
        "     tx = re.sub(r'(?:\\http|www.)\\S+', 'URL', tx) # masking https to url\n",
        "     tx = re.sub(r'(?:#[a-z])\\S+', '', tx)\n",
        "     return tx"
      ],
      "id": "HR2d3AqNXLjA"
    },
    {
      "cell_type": "markdown",
      "metadata": {
        "id": "lt0pTlsk--Wl"
      },
      "source": [
        "## Text Cleaning"
      ],
      "id": "lt0pTlsk--Wl"
    },
    {
      "cell_type": "code",
      "execution_count": null,
      "metadata": {
        "id": "ZgZzelMwXLad"
      },
      "outputs": [],
      "source": [
        "def text_cleaning(tx):\n",
        "    tx = re.sub(r'[^\\x00-\\x7f]', r'', tx) # remove hex character\n",
        "    tx = tx.replace(\"\\n\", ' ') # remove \\n\n",
        "    tx = tx.replace(\"_\", ' ') # replace underscore on emoticon\n",
        "    tx = re.sub(r'[\\d]', '', tx) # remove number\n",
        "    tx = re.sub(r'[^\\w\\s]', '', tx) # remove punctuation\n",
        "    rpt_regex = re.compile(r\"(.)\\1{1,}\", re.IGNORECASE) # regex to normalized repeated character like hiii\n",
        "    tx = rpt_regex.sub(r\"\\1\\1\", tx) # remove repeated word\n",
        "    tx = tx.strip() # trim head and tail\n",
        "    tx = re.sub(' +', ' ', tx) # remove multiple space\n",
        "    return tx"
      ],
      "id": "ZgZzelMwXLad"
    },
    {
      "cell_type": "markdown",
      "metadata": {
        "id": "uwDUYwFkZBqX"
      },
      "source": [
        "## Stopwords Removal"
      ],
      "id": "uwDUYwFkZBqX"
    },
    {
      "cell_type": "code",
      "execution_count": null,
      "metadata": {
        "id": "0ChmL953ZBci"
      },
      "outputs": [],
      "source": [
        "stop_words = stopwords.words('english')\n",
        "\n",
        "def stopwords_removal(tx):\n",
        "    word_list = tx.split()\n",
        "    tx = ' '.join(word for word in word_list if word not in stop_words)\n",
        "    return tx"
      ],
      "id": "0ChmL953ZBci"
    },
    {
      "cell_type": "markdown",
      "metadata": {
        "id": "nDKySYy2ZQ6m"
      },
      "source": [
        "## Stemming"
      ],
      "id": "nDKySYy2ZQ6m"
    },
    {
      "cell_type": "code",
      "execution_count": null,
      "metadata": {
        "id": "FY9hcGS1ZBXw"
      },
      "outputs": [],
      "source": [
        "stemmer = SnowballStemmer('english')\n",
        "\n",
        "def stemming(tx):\n",
        "    temp = []\n",
        "    for i in tx.split():\n",
        "        i = stemmer.stem(i)\n",
        "        temp.append(i)\n",
        "    tx = ' '.join(temp)\n",
        "    return tx"
      ],
      "id": "FY9hcGS1ZBXw"
    },
    {
      "cell_type": "code",
      "execution_count": null,
      "metadata": {
        "id": "Fyp9i_yw948b"
      },
      "outputs": [],
      "source": [
        "lemmatizer = WordNetLemmatizer()\n",
        "\n",
        "def lemma(tx):\n",
        "    temp = []\n",
        "    for i in tx.split():\n",
        "        i = lemmatizer.lemmatize(i, pos = 'a')\n",
        "        temp.append(i)\n",
        "    tx = ' '.join(temp)\n",
        "    return tx"
      ],
      "id": "Fyp9i_yw948b"
    },
    {
      "cell_type": "markdown",
      "metadata": {
        "id": "h5z6iXYiZvs4"
      },
      "source": [
        "## Function for Text Processing"
      ],
      "id": "h5z6iXYiZvs4"
    },
    {
      "cell_type": "code",
      "execution_count": null,
      "metadata": {
        "id": "qCBbhkfzZBTk"
      },
      "outputs": [],
      "source": [
        "# function for text processing\n",
        "def text_processing(text):\n",
        "    text = text.lower()\n",
        "    text = convert_emojis(text)\n",
        "    text = convert_emoticons(text)\n",
        "    text = text_norm(text)\n",
        "    text = token_masking(text)\n",
        "    text = text_cleaning(text)\n",
        "    text = stopwords_removal(text)\n",
        "    # text = lemma(text)\n",
        "    return text\n"
      ],
      "id": "qCBbhkfzZBTk"
    },
    {
      "cell_type": "code",
      "execution_count": null,
      "metadata": {
        "colab": {
          "base_uri": "https://localhost:8080/"
        },
        "id": "_xEzC06yZBQ9",
        "outputId": "fd4d81b0-fa13-40b6-973c-e77d35f71bc0"
      },
      "outputs": [
        {
          "output_type": "stream",
          "name": "stdout",
          "text": [
            "[nltk_data] Downloading package wordnet to /root/nltk_data...\n",
            "[nltk_data]   Unzipping corpora/wordnet.zip.\n"
          ]
        }
      ],
      "source": [
        "nltk.download('wordnet')\n",
        "text_list = []\n",
        "for text in list(df['text']):\n",
        "    text = text_processing(text)\n",
        "    text_list.append(text)\n",
        "df['text'] = text_list"
      ],
      "id": "_xEzC06yZBQ9"
    },
    {
      "cell_type": "markdown",
      "metadata": {
        "id": "0Jof4MO4h8Qd"
      },
      "source": [
        "# Features Extraction"
      ],
      "id": "0Jof4MO4h8Qd"
    },
    {
      "cell_type": "markdown",
      "metadata": {
        "id": "OYz3K5L-iEn1"
      },
      "source": [
        "## Tokenization"
      ],
      "id": "OYz3K5L-iEn1"
    },
    {
      "cell_type": "code",
      "execution_count": null,
      "metadata": {
        "id": "mba8cibfiBZ-"
      },
      "outputs": [],
      "source": [
        "df_features = df['text']\n",
        "df_target = df['label']\n",
        "df_target = np.array(df_target)\n",
        "# new = feature_extraction(df_features, df_target).head("
      ],
      "id": "mba8cibfiBZ-"
    },
    {
      "cell_type": "code",
      "execution_count": null,
      "metadata": {
        "id": "CWWoYxZ0iBWi"
      },
      "outputs": [],
      "source": [
        "tokenizer = Tokenizer(filters='!\"#$%&()*+,-./:;<=>?@[\\\\]^_`{|}~\\t\\n')\n",
        "tokenizer.fit_on_texts(df_features)\n",
        "\n",
        "X = tokenizer.texts_to_sequences(df_features)"
      ],
      "id": "CWWoYxZ0iBWi"
    },
    {
      "cell_type": "markdown",
      "metadata": {
        "id": "zICXo5CYmRnR"
      },
      "source": [
        "## Padding"
      ],
      "id": "zICXo5CYmRnR"
    },
    {
      "cell_type": "code",
      "execution_count": null,
      "metadata": {
        "id": "67tQi-a3iBN_"
      },
      "outputs": [],
      "source": [
        "X = pad_sequences(X, maxlen = 150)"
      ],
      "id": "67tQi-a3iBN_"
    },
    {
      "cell_type": "markdown",
      "metadata": {
        "id": "v1RbDUJFmvSr"
      },
      "source": [
        "## Split Dataset"
      ],
      "id": "v1RbDUJFmvSr"
    },
    {
      "cell_type": "code",
      "execution_count": null,
      "metadata": {
        "id": "365jtJ78mQ-d"
      },
      "outputs": [],
      "source": [
        "X_train, X_test, y_train, y_test = train_test_split(X, df_target, test_size = 0.2)"
      ],
      "id": "365jtJ78mQ-d"
    },
    {
      "cell_type": "markdown",
      "metadata": {
        "id": "8PCDrbbMnEpf"
      },
      "source": [
        "# Modelling"
      ],
      "id": "8PCDrbbMnEpf"
    },
    {
      "cell_type": "code",
      "execution_count": null,
      "metadata": {
        "colab": {
          "base_uri": "https://localhost:8080/"
        },
        "id": "rPCm781DmQ7I",
        "outputId": "d9f034e7-286d-4454-dc65-62aa457fe129"
      },
      "outputs": [
        {
          "output_type": "stream",
          "name": "stdout",
          "text": [
            "Model: \"sequential\"\n",
            "_________________________________________________________________\n",
            " Layer (type)                Output Shape              Param #   \n",
            "=================================================================\n",
            " embedding (Embedding)       (None, 150, 32)           369344    \n",
            "                                                                 \n",
            " lstm (LSTM)                 (None, 150, 128)          82432     \n",
            "                                                                 \n",
            " lstm_1 (LSTM)               (None, 56)                41440     \n",
            "                                                                 \n",
            " dense (Dense)               (None, 1)                 57        \n",
            "                                                                 \n",
            "=================================================================\n",
            "Total params: 493,273\n",
            "Trainable params: 493,273\n",
            "Non-trainable params: 0\n",
            "_________________________________________________________________\n",
            "None\n"
          ]
        }
      ],
      "source": [
        "# create architecture\n",
        "from keras.layers import Dropout\n",
        "vocab_size = len(tokenizer.word_index)+1\n",
        "embedding_vector_length = 32\n",
        "model2 = Sequential()\n",
        "model2.add(Embedding(vocab_size, embedding_vector_length, input_length = 150))\n",
        "model2.add(LSTM(128, activation = 'tanh', return_sequences = 'True', dropout = 0.2))\n",
        "# model2.add(Dropout(0.2))\n",
        "model2.add(LSTM(56, activation = 'tanh', dropout = 0.2))\n",
        "# model2.add(Dropout(0.2))\n",
        "model2.add(Dense(1, activation = 'sigmoid'))\n",
        "model2.compile(loss = 'binary_crossentropy', optimizer = 'adam', metrics = ['accuracy'])\n",
        "print((model2.summary()))"
      ],
      "id": "rPCm781DmQ7I"
    },
    {
      "cell_type": "code",
      "execution_count": null,
      "metadata": {
        "id": "S4YfA8x-mQ4q",
        "colab": {
          "base_uri": "https://localhost:8080/"
        },
        "outputId": "83c0ebe1-24ec-486f-f303-0eb7425f6efa"
      },
      "outputs": [
        {
          "output_type": "stream",
          "name": "stdout",
          "text": [
            "Epoch 1/20\n",
            "366/366 [==============================] - 41s 91ms/step - loss: 1.6681 - accuracy: 0.3936 - val_loss: 0.6921 - val_accuracy: 0.2196\n",
            "Epoch 2/20\n",
            "366/366 [==============================] - 32s 87ms/step - loss: 0.6920 - accuracy: 0.2219 - val_loss: 0.6905 - val_accuracy: 0.2196\n",
            "Epoch 3/20\n",
            "366/366 [==============================] - 32s 88ms/step - loss: 0.6921 - accuracy: 0.2328 - val_loss: 0.6912 - val_accuracy: 0.2196\n",
            "Epoch 4/20\n",
            "366/366 [==============================] - 32s 87ms/step - loss: 0.6931 - accuracy: 0.2456 - val_loss: 0.6929 - val_accuracy: 0.2196\n",
            "Epoch 5/20\n",
            "366/366 [==============================] - 32s 87ms/step - loss: 0.6919 - accuracy: 0.2579 - val_loss: 0.6942 - val_accuracy: 0.6212\n",
            "Epoch 6/20\n",
            "366/366 [==============================] - 32s 87ms/step - loss: 0.6931 - accuracy: 0.2354 - val_loss: 0.6904 - val_accuracy: 0.2196\n",
            "Epoch 7/20\n",
            "366/366 [==============================] - 32s 87ms/step - loss: 0.6933 - accuracy: 0.2730 - val_loss: 0.6912 - val_accuracy: 0.2196\n",
            "Epoch 8/20\n",
            "366/366 [==============================] - 32s 87ms/step - loss: 0.6929 - accuracy: 0.2343 - val_loss: 0.6904 - val_accuracy: 0.2196\n",
            "Epoch 9/20\n",
            "366/366 [==============================] - 32s 87ms/step - loss: 0.6928 - accuracy: 0.2625 - val_loss: 0.6915 - val_accuracy: 0.2196\n",
            "Epoch 10/20\n",
            "366/366 [==============================] - 32s 87ms/step - loss: 0.6926 - accuracy: 0.3034 - val_loss: 0.6971 - val_accuracy: 0.2196\n",
            "Epoch 11/20\n",
            "366/366 [==============================] - 32s 87ms/step - loss: 0.3864 - accuracy: 0.4936 - val_loss: -0.1509 - val_accuracy: 0.6612\n",
            "Epoch 12/20\n",
            "366/366 [==============================] - 32s 87ms/step - loss: -0.9309 - accuracy: 0.6855 - val_loss: -1.1327 - val_accuracy: 0.6779\n",
            "Epoch 13/20\n",
            "366/366 [==============================] - 32s 87ms/step - loss: -2.8162 - accuracy: 0.7144 - val_loss: -2.3218 - val_accuracy: 0.6796\n",
            "Epoch 14/20\n",
            "366/366 [==============================] - 32s 87ms/step - loss: -3.2142 - accuracy: 0.7148 - val_loss: 0.1635 - val_accuracy: 0.5796\n",
            "Epoch 15/20\n",
            "366/366 [==============================] - 32s 87ms/step - loss: -0.9316 - accuracy: 0.7150 - val_loss: -2.2469 - val_accuracy: 0.5249\n",
            "Epoch 16/20\n",
            "366/366 [==============================] - 32s 87ms/step - loss: -6.0293 - accuracy: 0.7153 - val_loss: -4.4449 - val_accuracy: 0.6752\n",
            "Epoch 17/20\n",
            "366/366 [==============================] - 32s 87ms/step - loss: -9.4284 - accuracy: 0.7446 - val_loss: -6.2083 - val_accuracy: 0.6786\n",
            "Epoch 18/20\n",
            "366/366 [==============================] - 32s 88ms/step - loss: -12.1754 - accuracy: 0.7467 - val_loss: -7.0433 - val_accuracy: 0.6660\n",
            "Epoch 19/20\n",
            "366/366 [==============================] - 32s 87ms/step - loss: -14.9273 - accuracy: 0.7535 - val_loss: -8.6572 - val_accuracy: 0.6759\n",
            "Epoch 20/20\n",
            "366/366 [==============================] - 32s 87ms/step - loss: -17.3289 - accuracy: 0.7539 - val_loss: -9.6390 - val_accuracy: 0.6697\n"
          ]
        },
        {
          "output_type": "execute_result",
          "data": {
            "text/plain": [
              "<keras.callbacks.History at 0x7f2f832d02d0>"
            ]
          },
          "metadata": {},
          "execution_count": 23
        }
      ],
      "source": [
        "# training model\n",
        "model2.fit(X_train, y_train, validation_data = (X_test, y_test), epochs = 20)"
      ],
      "id": "S4YfA8x-mQ4q"
    },
    {
      "cell_type": "code",
      "execution_count": null,
      "metadata": {
        "id": "gYQayilYmQ1u"
      },
      "outputs": [],
      "source": [
        "# predict\n",
        "y_pred = model2.predict(X_test)"
      ],
      "id": "gYQayilYmQ1u"
    },
    {
      "cell_type": "markdown",
      "metadata": {
        "id": "GE2F43hX2pQ5"
      },
      "source": [
        "# Evaluation"
      ],
      "id": "GE2F43hX2pQ5"
    },
    {
      "cell_type": "code",
      "execution_count": null,
      "metadata": {
        "id": "uAyIk7wT2qbG",
        "colab": {
          "base_uri": "https://localhost:8080/"
        },
        "outputId": "f01994bd-61ae-4420-e7fb-de930866b976"
      },
      "outputs": [
        {
          "output_type": "stream",
          "name": "stdout",
          "text": [
            "Accuracy model: 62.12% \n",
            "\n",
            "Classification report\n",
            "               precision    recall  f1-score   support\n",
            "\n",
            "           0       0.62      1.00      0.77      1819\n",
            "           1       0.00      0.00      0.00       643\n",
            "           2       0.00      0.00      0.00       466\n",
            "\n",
            "    accuracy                           0.62      2928\n",
            "   macro avg       0.21      0.33      0.26      2928\n",
            "weighted avg       0.39      0.62      0.48      2928\n",
            "\n"
          ]
        }
      ],
      "source": [
        "print('Accuracy model: {:.2%}'.format(accuracy_score(y_test, np.argmax(y_pred, axis = 1))), '\\n')\n",
        "print('Classification report\\n', classification_report(y_test, np.argmax(y_pred, axis = 1)))"
      ],
      "id": "uAyIk7wT2qbG"
    },
    {
      "cell_type": "code",
      "execution_count": null,
      "metadata": {
        "id": "C29Cjv2tmQy3",
        "colab": {
          "base_uri": "https://localhost:8080/",
          "height": 355
        },
        "outputId": "2cf96379-39b5-41e7-969a-b9d95739d33f"
      },
      "outputs": [
        {
          "output_type": "display_data",
          "data": {
            "text/plain": [
              "<Figure size 576x360 with 2 Axes>"
            ],
            "image/png": "[encoded data removed]"
          },
          "metadata": {
            "needs_background": "light"
          }
        }
      ],
      "source": [
        "# confusion matrix\n",
        "labels = np.unique(np.array(df['label']))\n",
        "labels_inv = np.flip(labels)\n",
        "ax = plt.figure(figsize = (8,5))\n",
        "ax = plt.subplot()\n",
        "cm = confusion_matrix(y_test, (np.argmax((y_pred), axis = 1)))\n",
        "sns.heatmap(cm, annot = True)\n",
        "plt.title('Confusion Matrix', fontsize = 20, pad = 20)\n",
        "ax.xaxis.set_ticklabels(labels)\n",
        "ax.yaxis.set_ticklabels(labels_inv)\n",
        "plt.show()"
      ],
      "id": "C29Cjv2tmQy3"
    }
  ],
  "metadata": {
    "accelerator": "GPU",
    "colab": {
      "collapsed_sections": [],
      "name": "Twitter Sentiment Analysis",
      "provenance": []
    },
    "kernelspec": {
      "display_name": "Python 3 (ipykernel)",
      "language": "python",
      "name": "python3"
    },
    "language_info": {
      "codemirror_mode": {
        "name": "ipython",
        "version": 3
      },
      "file_extension": ".py",
      "mimetype": "text/x-python",
      "name": "python",
      "nbconvert_exporter": "python",
      "pygments_lexer": "ipython3",
      "version": "3.10.2"
    }
  },
  "nbformat": 4,
  "nbformat_minor": 5
}